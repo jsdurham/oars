{
 "cells": [
  {
   "cell_type": "code",
   "execution_count": 1,
   "metadata": {},
   "outputs": [
    {
     "name": "stdout",
     "output_type": "stream",
     "text": [
      "Testing quadratic\n",
      "Converged in objective value, iteration 69\n",
      "Testing L1\n",
      "Converged in objective value, iteration 16\n",
      "Testing quadratic\n",
      "Starting Parallel Algorithm\n"
     ]
    }
   ],
   "source": [
    "import oars.pep\n",
    "from oars.matrices import *\n",
    "import numpy as np\n",
    "np.set_printoptions(precision=3, suppress=True, linewidth=200)\n",
    "from importlib import reload\n",
    "import algorithm_test\n"
   ]
  },
  {
   "cell_type": "code",
   "execution_count": 2,
   "metadata": {},
   "outputs": [
    {
     "data": {
      "application/vnd.plotly.v1+json": {
       "config": {
        "plotlyServerURL": "https://plot.ly"
       },
       "data": [
        {
         "alignmentgroup": "True",
         "base": [
          0,
          1.9999999999993794,
          4.999999999998954
         ],
         "hovertemplate": "Task=Iter 1<br>Start=%{base}<br>Finish=%{x}<br>Resource=%{y}<extra></extra>",
         "legendgroup": "Iter 1",
         "marker": {
          "color": "#636efa",
          "pattern": {
           "shape": ""
          }
         },
         "name": "Iter 1",
         "offsetgroup": "Iter 1",
         "orientation": "h",
         "showlegend": true,
         "textposition": "auto",
         "type": "bar",
         "x": [
          1,
          1.9999999999999998,
          3
         ],
         "xaxis": "x",
         "y": [
          "Node 1",
          "Node 2",
          "Node 3"
         ],
         "yaxis": "y"
        },
        {
         "alignmentgroup": "True",
         "base": [
          5.000000000000036,
          8.999999999998293,
          11.99999999999793
         ],
         "hovertemplate": "Task=Iter 2<br>Start=%{base}<br>Finish=%{x}<br>Resource=%{y}<extra></extra>",
         "legendgroup": "Iter 2",
         "marker": {
          "color": "#EF553B",
          "pattern": {
           "shape": ""
          }
         },
         "name": "Iter 2",
         "offsetgroup": "Iter 2",
         "orientation": "h",
         "showlegend": true,
         "textposition": "auto",
         "type": "bar",
         "x": [
          1,
          2,
          3
         ],
         "xaxis": "x",
         "y": [
          "Node 1",
          "Node 2",
          "Node 3"
         ],
         "yaxis": "y"
        },
        {
         "alignmentgroup": "True",
         "base": [
          11.999999999998433,
          15.99999999999712,
          18.99999999999676
         ],
         "hovertemplate": "Task=Iter 3<br>Start=%{base}<br>Finish=%{x}<br>Resource=%{y}<extra></extra>",
         "legendgroup": "Iter 3",
         "marker": {
          "color": "#00cc96",
          "pattern": {
           "shape": ""
          }
         },
         "name": "Iter 3",
         "offsetgroup": "Iter 3",
         "orientation": "h",
         "showlegend": true,
         "textposition": "auto",
         "type": "bar",
         "x": [
          1,
          2.0000000000000018,
          3
         ],
         "xaxis": "x",
         "y": [
          "Node 1",
          "Node 2",
          "Node 3"
         ],
         "yaxis": "y"
        },
        {
         "alignmentgroup": "True",
         "base": [
          18.99999999999728,
          22.99999999999585,
          25.9999999999955
         ],
         "hovertemplate": "Task=Iter 4<br>Start=%{base}<br>Finish=%{x}<br>Resource=%{y}<extra></extra>",
         "legendgroup": "Iter 4",
         "marker": {
          "color": "#ab63fa",
          "pattern": {
           "shape": ""
          }
         },
         "name": "Iter 4",
         "offsetgroup": "Iter 4",
         "orientation": "h",
         "showlegend": true,
         "textposition": "auto",
         "type": "bar",
         "x": [
          1,
          2,
          3
         ],
         "xaxis": "x",
         "y": [
          "Node 1",
          "Node 2",
          "Node 3"
         ],
         "yaxis": "y"
        },
        {
         "alignmentgroup": "True",
         "base": [
          25.999999999995428,
          29.999999999994582,
          32.999999999994195
         ],
         "hovertemplate": "Task=Iter 5<br>Start=%{base}<br>Finish=%{x}<br>Resource=%{y}<extra></extra>",
         "legendgroup": "Iter 5",
         "marker": {
          "color": "#FFA15A",
          "pattern": {
           "shape": ""
          }
         },
         "name": "Iter 5",
         "offsetgroup": "Iter 5",
         "orientation": "h",
         "showlegend": true,
         "textposition": "auto",
         "type": "bar",
         "x": [
          1,
          2,
          3
         ],
         "xaxis": "x",
         "y": [
          "Node 1",
          "Node 2",
          "Node 3"
         ],
         "yaxis": "y"
        },
        {
         "alignmentgroup": "True",
         "base": [
          32.99999999999402,
          36.99999999999351,
          39.99999999999317
         ],
         "hovertemplate": "Task=Iter 6<br>Start=%{base}<br>Finish=%{x}<br>Resource=%{y}<extra></extra>",
         "legendgroup": "Iter 6",
         "marker": {
          "color": "#19d3f3",
          "pattern": {
           "shape": ""
          }
         },
         "name": "Iter 6",
         "offsetgroup": "Iter 6",
         "orientation": "h",
         "showlegend": true,
         "textposition": "auto",
         "type": "bar",
         "x": [
          1,
          2,
          3
         ],
         "xaxis": "x",
         "y": [
          "Node 1",
          "Node 2",
          "Node 3"
         ],
         "yaxis": "y"
        }
       ],
       "layout": {
        "barmode": "overlay",
        "legend": {
         "title": {
          "text": "Task"
         },
         "tracegroupgap": 0
        },
        "margin": {
         "t": 60
        },
        "template": {
         "data": {
          "bar": [
           {
            "error_x": {
             "color": "#2a3f5f"
            },
            "error_y": {
             "color": "#2a3f5f"
            },
            "marker": {
             "line": {
              "color": "#E5ECF6",
              "width": 0.5
             },
             "pattern": {
              "fillmode": "overlay",
              "size": 10,
              "solidity": 0.2
             }
            },
            "type": "bar"
           }
          ],
          "barpolar": [
           {
            "marker": {
             "line": {
              "color": "#E5ECF6",
              "width": 0.5
             },
             "pattern": {
              "fillmode": "overlay",
              "size": 10,
              "solidity": 0.2
             }
            },
            "type": "barpolar"
           }
          ],
          "carpet": [
           {
            "aaxis": {
             "endlinecolor": "#2a3f5f",
             "gridcolor": "white",
             "linecolor": "white",
             "minorgridcolor": "white",
             "startlinecolor": "#2a3f5f"
            },
            "baxis": {
             "endlinecolor": "#2a3f5f",
             "gridcolor": "white",
             "linecolor": "white",
             "minorgridcolor": "white",
             "startlinecolor": "#2a3f5f"
            },
            "type": "carpet"
           }
          ],
          "choropleth": [
           {
            "colorbar": {
             "outlinewidth": 0,
             "ticks": ""
            },
            "type": "choropleth"
           }
          ],
          "contour": [
           {
            "colorbar": {
             "outlinewidth": 0,
             "ticks": ""
            },
            "colorscale": [
             [
              0,
              "#0d0887"
             ],
             [
              0.1111111111111111,
              "#46039f"
             ],
             [
              0.2222222222222222,
              "#7201a8"
             ],
             [
              0.3333333333333333,
              "#9c179e"
             ],
             [
              0.4444444444444444,
              "#bd3786"
             ],
             [
              0.5555555555555556,
              "#d8576b"
             ],
             [
              0.6666666666666666,
              "#ed7953"
             ],
             [
              0.7777777777777778,
              "#fb9f3a"
             ],
             [
              0.8888888888888888,
              "#fdca26"
             ],
             [
              1,
              "#f0f921"
             ]
            ],
            "type": "contour"
           }
          ],
          "contourcarpet": [
           {
            "colorbar": {
             "outlinewidth": 0,
             "ticks": ""
            },
            "type": "contourcarpet"
           }
          ],
          "heatmap": [
           {
            "colorbar": {
             "outlinewidth": 0,
             "ticks": ""
            },
            "colorscale": [
             [
              0,
              "#0d0887"
             ],
             [
              0.1111111111111111,
              "#46039f"
             ],
             [
              0.2222222222222222,
              "#7201a8"
             ],
             [
              0.3333333333333333,
              "#9c179e"
             ],
             [
              0.4444444444444444,
              "#bd3786"
             ],
             [
              0.5555555555555556,
              "#d8576b"
             ],
             [
              0.6666666666666666,
              "#ed7953"
             ],
             [
              0.7777777777777778,
              "#fb9f3a"
             ],
             [
              0.8888888888888888,
              "#fdca26"
             ],
             [
              1,
              "#f0f921"
             ]
            ],
            "type": "heatmap"
           }
          ],
          "heatmapgl": [
           {
            "colorbar": {
             "outlinewidth": 0,
             "ticks": ""
            },
            "colorscale": [
             [
              0,
              "#0d0887"
             ],
             [
              0.1111111111111111,
              "#46039f"
             ],
             [
              0.2222222222222222,
              "#7201a8"
             ],
             [
              0.3333333333333333,
              "#9c179e"
             ],
             [
              0.4444444444444444,
              "#bd3786"
             ],
             [
              0.5555555555555556,
              "#d8576b"
             ],
             [
              0.6666666666666666,
              "#ed7953"
             ],
             [
              0.7777777777777778,
              "#fb9f3a"
             ],
             [
              0.8888888888888888,
              "#fdca26"
             ],
             [
              1,
              "#f0f921"
             ]
            ],
            "type": "heatmapgl"
           }
          ],
          "histogram": [
           {
            "marker": {
             "pattern": {
              "fillmode": "overlay",
              "size": 10,
              "solidity": 0.2
             }
            },
            "type": "histogram"
           }
          ],
          "histogram2d": [
           {
            "colorbar": {
             "outlinewidth": 0,
             "ticks": ""
            },
            "colorscale": [
             [
              0,
              "#0d0887"
             ],
             [
              0.1111111111111111,
              "#46039f"
             ],
             [
              0.2222222222222222,
              "#7201a8"
             ],
             [
              0.3333333333333333,
              "#9c179e"
             ],
             [
              0.4444444444444444,
              "#bd3786"
             ],
             [
              0.5555555555555556,
              "#d8576b"
             ],
             [
              0.6666666666666666,
              "#ed7953"
             ],
             [
              0.7777777777777778,
              "#fb9f3a"
             ],
             [
              0.8888888888888888,
              "#fdca26"
             ],
             [
              1,
              "#f0f921"
             ]
            ],
            "type": "histogram2d"
           }
          ],
          "histogram2dcontour": [
           {
            "colorbar": {
             "outlinewidth": 0,
             "ticks": ""
            },
            "colorscale": [
             [
              0,
              "#0d0887"
             ],
             [
              0.1111111111111111,
              "#46039f"
             ],
             [
              0.2222222222222222,
              "#7201a8"
             ],
             [
              0.3333333333333333,
              "#9c179e"
             ],
             [
              0.4444444444444444,
              "#bd3786"
             ],
             [
              0.5555555555555556,
              "#d8576b"
             ],
             [
              0.6666666666666666,
              "#ed7953"
             ],
             [
              0.7777777777777778,
              "#fb9f3a"
             ],
             [
              0.8888888888888888,
              "#fdca26"
             ],
             [
              1,
              "#f0f921"
             ]
            ],
            "type": "histogram2dcontour"
           }
          ],
          "mesh3d": [
           {
            "colorbar": {
             "outlinewidth": 0,
             "ticks": ""
            },
            "type": "mesh3d"
           }
          ],
          "parcoords": [
           {
            "line": {
             "colorbar": {
              "outlinewidth": 0,
              "ticks": ""
             }
            },
            "type": "parcoords"
           }
          ],
          "pie": [
           {
            "automargin": true,
            "type": "pie"
           }
          ],
          "scatter": [
           {
            "fillpattern": {
             "fillmode": "overlay",
             "size": 10,
             "solidity": 0.2
            },
            "type": "scatter"
           }
          ],
          "scatter3d": [
           {
            "line": {
             "colorbar": {
              "outlinewidth": 0,
              "ticks": ""
             }
            },
            "marker": {
             "colorbar": {
              "outlinewidth": 0,
              "ticks": ""
             }
            },
            "type": "scatter3d"
           }
          ],
          "scattercarpet": [
           {
            "marker": {
             "colorbar": {
              "outlinewidth": 0,
              "ticks": ""
             }
            },
            "type": "scattercarpet"
           }
          ],
          "scattergeo": [
           {
            "marker": {
             "colorbar": {
              "outlinewidth": 0,
              "ticks": ""
             }
            },
            "type": "scattergeo"
           }
          ],
          "scattergl": [
           {
            "marker": {
             "colorbar": {
              "outlinewidth": 0,
              "ticks": ""
             }
            },
            "type": "scattergl"
           }
          ],
          "scattermapbox": [
           {
            "marker": {
             "colorbar": {
              "outlinewidth": 0,
              "ticks": ""
             }
            },
            "type": "scattermapbox"
           }
          ],
          "scatterpolar": [
           {
            "marker": {
             "colorbar": {
              "outlinewidth": 0,
              "ticks": ""
             }
            },
            "type": "scatterpolar"
           }
          ],
          "scatterpolargl": [
           {
            "marker": {
             "colorbar": {
              "outlinewidth": 0,
              "ticks": ""
             }
            },
            "type": "scatterpolargl"
           }
          ],
          "scatterternary": [
           {
            "marker": {
             "colorbar": {
              "outlinewidth": 0,
              "ticks": ""
             }
            },
            "type": "scatterternary"
           }
          ],
          "surface": [
           {
            "colorbar": {
             "outlinewidth": 0,
             "ticks": ""
            },
            "colorscale": [
             [
              0,
              "#0d0887"
             ],
             [
              0.1111111111111111,
              "#46039f"
             ],
             [
              0.2222222222222222,
              "#7201a8"
             ],
             [
              0.3333333333333333,
              "#9c179e"
             ],
             [
              0.4444444444444444,
              "#bd3786"
             ],
             [
              0.5555555555555556,
              "#d8576b"
             ],
             [
              0.6666666666666666,
              "#ed7953"
             ],
             [
              0.7777777777777778,
              "#fb9f3a"
             ],
             [
              0.8888888888888888,
              "#fdca26"
             ],
             [
              1,
              "#f0f921"
             ]
            ],
            "type": "surface"
           }
          ],
          "table": [
           {
            "cells": {
             "fill": {
              "color": "#EBF0F8"
             },
             "line": {
              "color": "white"
             }
            },
            "header": {
             "fill": {
              "color": "#C8D4E3"
             },
             "line": {
              "color": "white"
             }
            },
            "type": "table"
           }
          ]
         },
         "layout": {
          "annotationdefaults": {
           "arrowcolor": "#2a3f5f",
           "arrowhead": 0,
           "arrowwidth": 1
          },
          "autotypenumbers": "strict",
          "coloraxis": {
           "colorbar": {
            "outlinewidth": 0,
            "ticks": ""
           }
          },
          "colorscale": {
           "diverging": [
            [
             0,
             "#8e0152"
            ],
            [
             0.1,
             "#c51b7d"
            ],
            [
             0.2,
             "#de77ae"
            ],
            [
             0.3,
             "#f1b6da"
            ],
            [
             0.4,
             "#fde0ef"
            ],
            [
             0.5,
             "#f7f7f7"
            ],
            [
             0.6,
             "#e6f5d0"
            ],
            [
             0.7,
             "#b8e186"
            ],
            [
             0.8,
             "#7fbc41"
            ],
            [
             0.9,
             "#4d9221"
            ],
            [
             1,
             "#276419"
            ]
           ],
           "sequential": [
            [
             0,
             "#0d0887"
            ],
            [
             0.1111111111111111,
             "#46039f"
            ],
            [
             0.2222222222222222,
             "#7201a8"
            ],
            [
             0.3333333333333333,
             "#9c179e"
            ],
            [
             0.4444444444444444,
             "#bd3786"
            ],
            [
             0.5555555555555556,
             "#d8576b"
            ],
            [
             0.6666666666666666,
             "#ed7953"
            ],
            [
             0.7777777777777778,
             "#fb9f3a"
            ],
            [
             0.8888888888888888,
             "#fdca26"
            ],
            [
             1,
             "#f0f921"
            ]
           ],
           "sequentialminus": [
            [
             0,
             "#0d0887"
            ],
            [
             0.1111111111111111,
             "#46039f"
            ],
            [
             0.2222222222222222,
             "#7201a8"
            ],
            [
             0.3333333333333333,
             "#9c179e"
            ],
            [
             0.4444444444444444,
             "#bd3786"
            ],
            [
             0.5555555555555556,
             "#d8576b"
            ],
            [
             0.6666666666666666,
             "#ed7953"
            ],
            [
             0.7777777777777778,
             "#fb9f3a"
            ],
            [
             0.8888888888888888,
             "#fdca26"
            ],
            [
             1,
             "#f0f921"
            ]
           ]
          },
          "colorway": [
           "#636efa",
           "#EF553B",
           "#00cc96",
           "#ab63fa",
           "#FFA15A",
           "#19d3f3",
           "#FF6692",
           "#B6E880",
           "#FF97FF",
           "#FECB52"
          ],
          "font": {
           "color": "#2a3f5f"
          },
          "geo": {
           "bgcolor": "white",
           "lakecolor": "white",
           "landcolor": "#E5ECF6",
           "showlakes": true,
           "showland": true,
           "subunitcolor": "white"
          },
          "hoverlabel": {
           "align": "left"
          },
          "hovermode": "closest",
          "mapbox": {
           "style": "light"
          },
          "paper_bgcolor": "white",
          "plot_bgcolor": "#E5ECF6",
          "polar": {
           "angularaxis": {
            "gridcolor": "white",
            "linecolor": "white",
            "ticks": ""
           },
           "bgcolor": "#E5ECF6",
           "radialaxis": {
            "gridcolor": "white",
            "linecolor": "white",
            "ticks": ""
           }
          },
          "scene": {
           "xaxis": {
            "backgroundcolor": "#E5ECF6",
            "gridcolor": "white",
            "gridwidth": 2,
            "linecolor": "white",
            "showbackground": true,
            "ticks": "",
            "zerolinecolor": "white"
           },
           "yaxis": {
            "backgroundcolor": "#E5ECF6",
            "gridcolor": "white",
            "gridwidth": 2,
            "linecolor": "white",
            "showbackground": true,
            "ticks": "",
            "zerolinecolor": "white"
           },
           "zaxis": {
            "backgroundcolor": "#E5ECF6",
            "gridcolor": "white",
            "gridwidth": 2,
            "linecolor": "white",
            "showbackground": true,
            "ticks": "",
            "zerolinecolor": "white"
           }
          },
          "shapedefaults": {
           "line": {
            "color": "#2a3f5f"
           }
          },
          "ternary": {
           "aaxis": {
            "gridcolor": "white",
            "linecolor": "white",
            "ticks": ""
           },
           "baxis": {
            "gridcolor": "white",
            "linecolor": "white",
            "ticks": ""
           },
           "bgcolor": "#E5ECF6",
           "caxis": {
            "gridcolor": "white",
            "linecolor": "white",
            "ticks": ""
           }
          },
          "title": {
           "x": 0.05
          },
          "xaxis": {
           "automargin": true,
           "gridcolor": "white",
           "linecolor": "white",
           "ticks": "",
           "title": {
            "standoff": 15
           },
           "zerolinecolor": "white",
           "zerolinewidth": 2
          },
          "yaxis": {
           "automargin": true,
           "gridcolor": "white",
           "linecolor": "white",
           "ticks": "",
           "title": {
            "standoff": 15
           },
           "zerolinecolor": "white",
           "zerolinewidth": 2
          }
         }
        },
        "title": {
         "text": "Example"
        },
        "xaxis": {
         "anchor": "y",
         "domain": [
          0,
          1
         ],
         "title": {
          "text": "Time Units"
         },
         "type": "linear"
        },
        "yaxis": {
         "anchor": "x",
         "autorange": "reversed",
         "domain": [
          0,
          1
         ],
         "title": {
          "text": "Resource"
         }
        }
       }
      }
     },
     "metadata": {},
     "output_type": "display_data"
    }
   ],
   "source": [
    "from oars.utils import *\n",
    "from oars.matrices import *\n",
    "import numpy as np\n",
    "t = [1, 2, 3]\n",
    "l = np.array([[0, 1, 2], [1,0,1], [2,1,0]])\n",
    "Z, W = getMT(3)\n",
    "fig = getGantt(t, l, Z, W)\n",
    "fig.show()"
   ]
  },
  {
   "cell_type": "code",
   "execution_count": 9,
   "metadata": {},
   "outputs": [
    {
     "name": "stdout",
     "output_type": "stream",
     "text": [
      "No operators provided, using default LipschitzStronglyMonotoneOperator\n",
      "Cycle: 10.999999999999147\n",
      "Tau: 0.8083945725558891\n",
      "Total Cycles: 44.0\n",
      "Total Time: 483.9999999999625\n"
     ]
    }
   ],
   "source": [
    "# getMetrics Example\n",
    "from oars.utils import getMetrics\n",
    "from oars.matrices import getBlockMin\n",
    "n = 4\n",
    "Z, W = getBlockMin(n, n//2)\n",
    "t = np.array([1, 2, 3, 4])\n",
    "l = np.array([[0,1,2,3], \n",
    "              [1,0,1,2], \n",
    "              [2,1,0,1], \n",
    "              [3,2,1,0]])\n",
    "ls = np.array([5, 4, 3, 2])\n",
    "mus = np.array([3, 2, 1, 0])\n",
    "contraction_target = 0.0001\n",
    "cycle, tau, total_cycles, total_time = getMetrics(Z, W, t, l, ls, mus, contraction_target)\n",
    "print('Cycle:', cycle)\n",
    "print('Tau:', tau)\n",
    "print('Total Cycles:', total_cycles)\n",
    "print('Total Time:', total_time)\n"
   ]
  },
  {
   "cell_type": "code",
   "execution_count": 11,
   "metadata": {},
   "outputs": [
    {
     "name": "stdout",
     "output_type": "stream",
     "text": [
      "[[ 2. -1. -1. -0.]\n",
      " [-1.  2. -0. -1.]\n",
      " [-1. -0.  2. -1.]\n",
      " [-0. -1. -1.  2.]]\n",
      "[[ 2. -1. -1.  0.]\n",
      " [-1.  2.  0. -1.]\n",
      " [-1.  0.  2. -1.]\n",
      " [ 0. -1. -1.  2.]]\n",
      "No operators provided, using default LipschitzStronglyMonotoneOperator\n",
      "Cycle: 9.99999999999865\n",
      "Tau: 0.8208356029559916\n",
      "Total Cycles: 47.0\n",
      "Total Time: 469.99999999993656\n"
     ]
    }
   ],
   "source": [
    "np.set_printoptions(precision=3, suppress=True, linewidth=200)\n",
    "from oars.matrices import getMinCycle, getMaxConnectivity\n",
    "Zmc, Wmc = getMinCycle(n, objective=getMaxConnectivity, t=t, l=l, minW=n//2)\n",
    "print(Zmc)\n",
    "print(Wmc)\n",
    "cycle, tau, total_cycles, total_time = getMetrics(Zmc, Wmc, t, l, ls, mus, contraction_target)\n",
    "print('Cycle:', cycle)\n",
    "print('Tau:', tau)\n",
    "print('Total Cycles:', total_cycles)\n",
    "print('Total Time:', total_time)"
   ]
  },
  {
   "cell_type": "code",
   "execution_count": 1,
   "metadata": {},
   "outputs": [
    {
     "ename": "NameError",
     "evalue": "name 'reload' is not defined",
     "output_type": "error",
     "traceback": [
      "\u001b[1;31m---------------------------------------------------------------------------\u001b[0m",
      "\u001b[1;31mNameError\u001b[0m                                 Traceback (most recent call last)",
      "Cell \u001b[1;32mIn[1], line 1\u001b[0m\n\u001b[1;32m----> 1\u001b[0m \u001b[43mreload\u001b[49m(algorithm_test)\n",
      "\u001b[1;31mNameError\u001b[0m: name 'reload' is not defined"
     ]
    }
   ],
   "source": [
    "reload(algorithm_test)"
   ]
  },
  {
   "cell_type": "code",
   "execution_count": 2,
   "metadata": {},
   "outputs": [],
   "source": [
    "algorithm_test.testSDP(parallel=True)\n"
   ]
  },
  {
   "cell_type": "code",
   "execution_count": 54,
   "metadata": {},
   "outputs": [
    {
     "name": "stdout",
     "output_type": "stream",
     "text": [
      "Converged in objective value, iteration 35356\n",
      "[[ 0.502 -0.022 -0.474  0.143  0.095 -0.053]\n",
      " [-0.022  0.029 -0.004  0.023  0.005  0.02 ]\n",
      " [-0.474 -0.004  0.469 -0.161 -0.098  0.034]\n",
      " [ 0.143  0.023 -0.161  0.072  0.037  0.003]\n",
      " [ 0.095  0.005 -0.098  0.037  0.021 -0.004]\n",
      " [-0.053  0.02   0.034  0.003 -0.004  0.017]]\n",
      "[[ 0.502 -0.022 -0.474  0.143  0.095 -0.053]\n",
      " [-0.022  0.029 -0.004  0.023  0.005  0.02 ]\n",
      " [-0.474 -0.004  0.469 -0.161 -0.098  0.034]\n",
      " [ 0.143  0.023 -0.161  0.072  0.037  0.003]\n",
      " [ 0.095  0.005 -0.098  0.037  0.021 -0.004]\n",
      " [-0.053  0.02   0.034  0.003 -0.004  0.017]]\n"
     ]
    }
   ],
   "source": [
    "from oars.matrices import getFull, getMT\n",
    "from oars.pep import getConstraintMatrices\n",
    "import proxs\n",
    "reload(proxs)\n",
    "from oars import solveMT\n",
    "n = 3\n",
    "Z, W = getMT(n)\n",
    "Ko, K1, Ki, Kp = getConstraintMatrices(Z, W, gamma=0.5)\n",
    "u = np.ones(2*n)\n",
    "u[n:] = 0\n",
    "# proxlist = [proxs.traceHalfspaceIndicator, proxs.traceEqualityIndicator, proxs.traceHalfspaceIndicator,]# for _ in Kp]\n",
    "# proxlist = []\n",
    "proxlist = [proxs.psdCone, proxs.traceEqualityIndicator, proxs.traceEqualityIndicator, proxs.linearSubdiff] + [proxs.traceHalfspaceIndicator for _ in Kp] #, linearSubdiff]\n",
    "data = [(2*n, 2*n), {'A':Ki, 'v':1}, {'A':K1, 'v':0}, -Ko] + Kp #, u, {'A':Ki, 'v':1}]#, -Ko]\n",
    "#data = [Kp[0], {'A':Ki, 'v':1}, Kp[1]]# + [u, (2*n, 2*n)]#, -Ko]\n",
    "dim = len(data)\n",
    "Wd, Zd = getBlockMin(dim, dim//2)\n",
    "from oars import solve\n",
    "x, results = solve(dim, data, proxlist, W=Wd, Z=Zd, itrs=100000, vartol=1e-4, gamma=0.8, checkperiod=10, verbose=False)\n",
    "# x, results = solveMT(dim, data, proxlist, itrs=10000, vartol=1e-6, gamma=0.8, checkperiod=10, verbose=False)\n",
    "oneprox = proxs.traceEqualityIndicator({'A':Ki, 'v':1})\n",
    "print(oneprox.prox(x))\n",
    "print(x)\n",
    "# print(x)\n",
    "# print(results)\n",
    "# print(np.trace(Ko @ x))\n"
   ]
  },
  {
   "cell_type": "code",
   "execution_count": 55,
   "metadata": {},
   "outputs": [
    {
     "data": {
      "text/plain": [
       "0.8806363180682683"
      ]
     },
     "execution_count": 55,
     "metadata": {},
     "output_type": "execute_result"
    }
   ],
   "source": [
    "np.trace(Ko @ x)"
   ]
  },
  {
   "cell_type": "code",
   "execution_count": 53,
   "metadata": {},
   "outputs": [
    {
     "name": "stdout",
     "output_type": "stream",
     "text": [
      "optimal\n",
      "0.8772093960780886\n",
      "[[ 0.497 -0.024 -0.473  0.142  0.092 -0.056]\n",
      " [-0.024  0.027 -0.003  0.021  0.004  0.019]\n",
      " [-0.473 -0.003  0.476 -0.163 -0.097  0.037]\n",
      " [ 0.142  0.021 -0.163  0.071  0.036  0.002]\n",
      " [ 0.092  0.004 -0.097  0.036  0.02  -0.005]\n",
      " [-0.056  0.019  0.037  0.002 -0.005  0.017]]\n",
      "1.057491839126227\n",
      "0.24253000172637015\n",
      "1.8391259270014304\n",
      "0.2831436413187557\n",
      "2.0488014245113737\n",
      "0.365486443518793\n",
      "0.877208753564782\n",
      "804.0745487528972\n",
      "0.8772093960780886\n"
     ]
    }
   ],
   "source": [
    "from oars.pep import getContractionFactor\n",
    "print(getContractionFactor(Z, W, verbose=True))"
   ]
  },
  {
   "cell_type": "code",
   "execution_count": 49,
   "metadata": {},
   "outputs": [
    {
     "name": "stdout",
     "output_type": "stream",
     "text": [
      "-1.726780265748351e-05\n",
      "0.0\n",
      "[-2.118  0.     0.    -0.    -0.     0.118]\n",
      "-5.286842805712899e-05\n",
      "-5.551115123125783e-17\n",
      "[-1.236 -0.     0.     0.     0.     3.236]\n",
      "-1.3989199108756234e-05\n",
      "0.0\n",
      "[-2.225 -0.     0.     0.    -0.     0.225]\n",
      "3.3899369720605255e-05\n",
      "3.3899369720605255e-05\n",
      "[-2.372 -0.    -0.     0.     0.     3.372]\n",
      "-0.00018755979739369655\n",
      "3.469446951953614e-18\n",
      "[-2.323 -0.     0.     0.     0.     0.323]\n",
      "-0.0003738813230230731\n",
      "1.3877787807814457e-17\n",
      "[-3.464 -0.    -0.    -0.     0.     3.464]\n",
      "[[ 0.508 -0.021 -0.478  0.146  0.101 -0.044]\n",
      " [-0.021  0.03  -0.012  0.028  0.007  0.022]\n",
      " [-0.478 -0.012  0.451 -0.158 -0.101  0.027]\n",
      " [ 0.146  0.028 -0.158  0.073  0.039  0.007]\n",
      " [ 0.101  0.007 -0.101  0.039  0.023 -0.002]\n",
      " [-0.044  0.022  0.027  0.007 -0.002  0.016]]\n",
      "[-0.012 -0.     0.     0.     0.081  1.032]\n",
      "[-0.001 -0.    -0.     0.     0.082  1.032]\n"
     ]
    }
   ],
   "source": [
    "for Kpi in Kp:\n",
    "    print(np.trace(Kpi @ x))\n",
    "    half = proxs.traceHalfspaceIndicator(Kpi)\n",
    "    y = half.prox(x)\n",
    "    print(np.trace(Kpi @ y))\n",
    "    print(np.linalg.eigvalsh(Kpi))\n",
    "\n",
    "cone = proxs.reducedCone(u)\n",
    "yy = cone.prox(x)\n",
    "print(yy)\n",
    "print(np.linalg.eigvalsh(yy))\n",
    "cone.getEigen(x)\n",
    "print(np.linalg.eigvalsh(x))\n",
    "# print(cone.prox(x))"
   ]
  },
  {
   "cell_type": "code",
   "execution_count": 25,
   "metadata": {},
   "outputs": [
    {
     "data": {
      "text/plain": [
       "EigResult(eigenvalues=array([ 1.864,  0.362, -0.   ,  0.355,  0.   ,  0.   ]), eigenvectors=array([[-0.566, -0.723, -0.396, -0.   ,  0.   ,  0.   ],\n",
       "       [-0.583,  0.358,  0.178, -0.707,  0.   ,  0.   ],\n",
       "       [-0.583,  0.358,  0.178,  0.707,  0.   ,  0.   ],\n",
       "       [-0.018, -0.469,  0.883, -0.   ,  0.   ,  0.   ],\n",
       "       [ 0.   ,  0.   ,  0.   ,  0.   ,  1.   ,  0.   ],\n",
       "       [ 0.   ,  0.   ,  0.   ,  0.   ,  0.   ,  1.   ]]))"
      ]
     },
     "execution_count": 25,
     "metadata": {},
     "output_type": "execute_result"
    }
   ],
   "source": [
    "# [[ 0.786  0.521  0.521  0.142  0.     0.   ]\n",
    "#  [ 0.521  0.857  0.502 -0.041  0.     0.   ]\n",
    "#  [ 0.521  0.502  0.857 -0.041  0.     0.   ]\n",
    "#  [ 0.142 -0.041 -0.041  0.08   0.     0.   ]\n",
    "#  [ 0.     0.     0.     0.     0.     0.   ]\n",
    "#  [ 0.     0.     0.     0.     0.     0.   ]]\n",
    "\n",
    "xx = np.array([[ 0.786,  0.521,  0.521,  0.142,  0.   ,  0.   ],\n",
    "    [ 0.521,  0.857,  0.502, -0.041,  0.   ,  0.   ],\n",
    "        [ 0.521,  0.502,  0.857, -0.041,  0.   ,  0.   ],\n",
    "        [ 0.142, -0.041, -0.041,  0.08 ,  0.   ,  0.   ],\n",
    "        [ 0.   ,  0.   ,  0.   ,  0.   ,  0.   ,  0.   ],\n",
    "        [ 0.   ,  0.   ,  0.   ,  0.   ,  0.   ,  0.   ]])\n",
    "\n",
    "np.linalg.eig(xx)"
   ]
  },
  {
   "cell_type": "code",
   "execution_count": null,
   "metadata": {},
   "outputs": [],
   "source": []
  },
  {
   "cell_type": "code",
   "execution_count": 21,
   "metadata": {},
   "outputs": [
    {
     "name": "stdout",
     "output_type": "stream",
     "text": [
      "[[0.333 0.    0.    0.    0.    0.   ]\n",
      " [0.    0.333 0.    0.    0.    0.   ]\n",
      " [0.    0.    0.333 0.    0.    0.   ]\n",
      " [0.    0.    0.    0.    0.    0.   ]\n",
      " [0.    0.    0.    0.    0.    0.   ]\n",
      " [0.    0.    0.    0.    0.    0.   ]]\n"
     ]
    }
   ],
   "source": [
    "traceeq = traceEqualityIndicator({'A':Ki, 'v':1})\n",
    "print(traceeq.U)"
   ]
  },
  {
   "cell_type": "code",
   "execution_count": 15,
   "metadata": {},
   "outputs": [
    {
     "data": {
      "text/plain": [
       "array([[ 1.  ,  0.  ,  0.  , -1.  ,  0.5 ,  0.5 ],\n",
       "       [ 0.  ,  1.  ,  0.  ,  0.5 , -1.  ,  0.5 ],\n",
       "       [ 0.  ,  0.  ,  1.  ,  0.5 ,  0.5 , -1.  ],\n",
       "       [-1.  ,  0.5 ,  0.5 ,  1.5 , -0.75, -0.75],\n",
       "       [ 0.5 , -1.  ,  0.5 , -0.75,  1.5 , -0.75],\n",
       "       [ 0.5 ,  0.5 , -1.  , -0.75, -0.75,  1.5 ]])"
      ]
     },
     "execution_count": 15,
     "metadata": {},
     "output_type": "execute_result"
    }
   ],
   "source": [
    "W@W"
   ]
  },
  {
   "cell_type": "code",
   "execution_count": 16,
   "metadata": {},
   "outputs": [
    {
     "data": {
      "text/plain": [
       "array([[ 6., -3., -3.],\n",
       "       [-3.,  6., -3.],\n",
       "       [-3., -3.,  6.]])"
      ]
     },
     "execution_count": 16,
     "metadata": {},
     "output_type": "execute_result"
    }
   ],
   "source": [
    "W@W"
   ]
  },
  {
   "cell_type": "code",
   "execution_count": 19,
   "metadata": {},
   "outputs": [
    {
     "data": {
      "text/plain": [
       "array([[1., 1., 1., 0., 0., 0.],\n",
       "       [1., 1., 1., 0., 0., 0.],\n",
       "       [1., 1., 1., 0., 0., 0.],\n",
       "       [0., 0., 0., 0., 0., 0.],\n",
       "       [0., 0., 0., 0., 0., 0.],\n",
       "       [0., 0., 0., 0., 0., 0.]])"
      ]
     },
     "execution_count": 19,
     "metadata": {},
     "output_type": "execute_result"
    }
   ],
   "source": [
    "y = oneprox.prox(x)\n",
    "np.trace(Ki @ y)\n",
    "Ki"
   ]
  },
  {
   "cell_type": "code",
   "execution_count": 9,
   "metadata": {},
   "outputs": [
    {
     "name": "stdout",
     "output_type": "stream",
     "text": [
      "0.006233800027985126\n"
     ]
    }
   ],
   "source": [
    "import proxs\n",
    "import timeit\n",
    "X = np.random.randn(10, 10)\n",
    "\n",
    "# Make symmetric A\n",
    "A = X + X.T\n",
    "\n",
    "aprox = proxs.traceHalfspaceIndicator(A)\n",
    "A.shape[0]\n",
    "# print(aprox.scale(A))\n",
    "# print(aprox.other_scale(A))\n",
    "# np.allclose(aprox.scale(A), aprox.other_scale(A))\n",
    "# # Compare the times for scale and otherscale\n",
    "print(timeit.timeit('aprox.scale(A)', number=1000, globals=globals()))\n",
    "\n",
    "# timeit.timeit('aprox.other_scale(A)', number=1000, globals=globals())\n",
    "# q = 0\n",
    "# for i in range(A.shape[0]):\n",
    "#     for j in range(i):\n",
    "#         q += 2*A[i,j]**2\n",
    "#     q += A[i,i]**2\n",
    "\n",
    "# print(q)\n",
    "# print(np.linalg.norm(A, 'fro')**2)"
   ]
  },
  {
   "cell_type": "code",
   "execution_count": 13,
   "metadata": {},
   "outputs": [
    {
     "data": {
      "text/plain": [
       "<module 'proxs' from 'c:\\\\Users\\\\peter\\\\OneDrive\\\\Documents\\\\code\\\\oars\\\\tests\\\\proxs.py'>"
      ]
     },
     "execution_count": 13,
     "metadata": {},
     "output_type": "execute_result"
    }
   ],
   "source": [
    "reload(proxs)"
   ]
  },
  {
   "cell_type": "code",
   "execution_count": 13,
   "metadata": {},
   "outputs": [
    {
     "data": {
      "text/plain": [
       "350.94063175498553"
      ]
     },
     "execution_count": 13,
     "metadata": {},
     "output_type": "execute_result"
    }
   ],
   "source": [
    "Y = 2*A + np.eye(A.shape[0])\n",
    "np.trace(A@Y)"
   ]
  },
  {
   "cell_type": "code",
   "execution_count": 14,
   "metadata": {},
   "outputs": [
    {
     "name": "stdout",
     "output_type": "stream",
     "text": [
      "1.0000000000000016\n"
     ]
    }
   ],
   "source": [
    "aprox = proxs.traceEqualityIndicator({'A':A, 'v':1})\n",
    "Yp = aprox.prox(A, 1)\n",
    "print(np.trace(A@Yp))"
   ]
  },
  {
   "cell_type": "code",
   "execution_count": 5,
   "metadata": {},
   "outputs": [
    {
     "data": {
      "text/plain": [
       "255.65986269415086"
      ]
     },
     "execution_count": 5,
     "metadata": {},
     "output_type": "execute_result"
    }
   ],
   "source": [
    "np.linalg.norm(A, 'fro')**2"
   ]
  },
  {
   "cell_type": "code",
   "execution_count": 2,
   "metadata": {},
   "outputs": [
    {
     "name": "stdout",
     "output_type": "stream",
     "text": [
      "[[ 2.43588727 -1.09730184 -0.25396727 -1.08461816]\n",
      " [-1.09730184  3.237486   -1.4169987  -0.72318545]\n",
      " [-0.25396727 -1.4169987   3.79612127 -2.1251553 ]\n",
      " [-1.08461816 -0.72318545 -2.1251553   3.93295892]]\n",
      "0.14316698043646195\n",
      "0.8993338570188733\n",
      "[[ 2.43588727 -1.09730184 -0.25396727 -1.08461816]\n",
      " [-1.09730184  3.237486   -1.4169987  -0.72318545]\n",
      " [-0.25396727 -1.4169987   3.79612127 -2.1251553 ]\n",
      " [-1.08461816 -0.72318545 -2.1251553   3.93295892]]\n",
      "0.14316698043646195\n"
     ]
    }
   ],
   "source": [
    "n=4\n",
    "Z, W = getMT(n)\n",
    "L = - np.tril(Z, -1)\n",
    "ls = np.ones(n)*2\n",
    "ls = np.cumsum(ls)\n",
    "mus = np.ones(n)\n",
    "mus = np.cumsum(mus)\n",
    "operators = [oars.pep.SmoothStronglyConvexFunction(L=ls[i], mu=mus[i]) for i in range(n)]\n",
    "tau = oars.pep.getContractionFactor(Z, W, None, None, operators=operators, alpha=1, gamma=0.5)\n",
    "W, tau_opt = oars.pep.getOptimalW(Z, operators=operators)\n",
    "Wo, tauo = oars.pep.getSubdiffW(L, ls=ls, mus=mus)\n",
    "print(W)\n",
    "print(tau_opt)\n",
    "print(tau)\n",
    "print(Wo)\n",
    "print(tauo)"
   ]
  },
  {
   "cell_type": "code",
   "execution_count": 2,
   "metadata": {},
   "outputs": [
    {
     "name": "stdout",
     "output_type": "stream",
     "text": [
      "[[ 2.10883221 -1.011507   -0.3138347  -0.7834905 ]\n",
      " [-1.011507    2.97677056 -1.18071865 -0.7845449 ]\n",
      " [-0.3138347  -1.18071865  3.00502589 -1.51047254]\n",
      " [-0.7834905  -0.7845449  -1.51047254  3.07850794]]\n",
      "0.6562344018316276\n",
      "0.9924137484022097\n",
      "[[ 2.43588727 -1.09730184 -0.25396727 -1.08461816]\n",
      " [-1.09730184  3.237486   -1.4169987  -0.72318545]\n",
      " [-0.25396727 -1.4169987   3.79612127 -2.1251553 ]\n",
      " [-1.08461816 -0.72318545 -2.1251553   3.93295892]]\n",
      "0.14316698043646195\n"
     ]
    }
   ],
   "source": [
    "n=4\n",
    "Z, W = getMT(n)\n",
    "L = - np.tril(Z, -1)\n",
    "ls = np.ones(n)*2\n",
    "ls = np.cumsum(ls)\n",
    "mus = np.ones(n)\n",
    "mus = np.cumsum(mus)\n",
    "operators = [oars.pep.LipschitzStronglyMonotoneOperator(L=ls[i], mu=mus[i]) for i in range(n)]\n",
    "tau = oars.pep.getContractionFactor(Z, W, None, None, operators=operators, alpha=1, gamma=0.5)\n",
    "W, tau_opt = oars.pep.getOptimalW(Z, operators=operators)\n",
    "Wo, tauo = oars.pep.getSubdiffW(L, ls=ls, mus=mus)\n",
    "print(W)\n",
    "print(tau_opt)\n",
    "print(tau)\n",
    "print(Wo)\n",
    "print(tauo)"
   ]
  },
  {
   "cell_type": "code",
   "execution_count": 2,
   "metadata": {},
   "outputs": [
    {
     "name": "stdout",
     "output_type": "stream",
     "text": [
      "[[ 6.98255568e-09 -6.92177773e-09  3.66397885e-11  3.66397881e-11]\n",
      " [-6.92177773e-09  7.39331880e-09 -1.95265932e-10 -1.95265931e-10]\n",
      " [ 3.66397885e-11 -1.95265932e-10  1.85725841e-11  1.85725869e-11]\n",
      " [ 3.66397881e-11 -1.95265931e-10  1.85725869e-11  1.85725855e-11]]\n",
      "1.0000000006201917\n"
     ]
    }
   ],
   "source": [
    "n = 4\n",
    "Z, W = getMT(n)\n",
    "L = -np.tril(Z, -1)\n",
    "ls = np.ones(n)*2\n",
    "mus = np.ones(n)\n",
    "Wopt, tau = oars.pep.getOptimalW(Z, ls=ls, mus=mus)\n",
    "print(Wopt)\n",
    "print(tau)"
   ]
  },
  {
   "cell_type": "code",
   "execution_count": 4,
   "metadata": {},
   "outputs": [
    {
     "data": {
      "text/plain": [
       "<module 'oars.pep' from 'C:\\\\Users\\\\peter\\\\OneDrive\\\\Documents\\\\code\\\\oars\\\\oars\\\\pep\\\\__init__.py'>"
      ]
     },
     "execution_count": 4,
     "metadata": {},
     "output_type": "execute_result"
    }
   ],
   "source": [
    "reload(oars.pep)"
   ]
  },
  {
   "cell_type": "code",
   "execution_count": 4,
   "metadata": {},
   "outputs": [
    {
     "data": {
      "text/plain": [
       "array([[ 1.,  0.,  0., -1.,  1., -0.],\n",
       "       [ 0.,  1.,  0.,  1., -2.,  1.],\n",
       "       [ 0.,  0.,  1., -0.,  1., -1.],\n",
       "       [-1.,  1., -0.,  2., -3.,  1.],\n",
       "       [ 1., -2.,  1., -3.,  6., -3.],\n",
       "       [-0.,  1., -1.,  1., -3.,  2.]])"
      ]
     },
     "execution_count": 4,
     "metadata": {},
     "output_type": "execute_result"
    }
   ],
   "source": [
    "n = 3\n",
    "Z, W = getMT(n)\n",
    "M = getIncidence(W)\n",
    "\n",
    "Ko, K1, Ki, Kp = getConstraintMatrices(Z, W)\n",
    "Ko"
   ]
  },
  {
   "cell_type": "code",
   "execution_count": 5,
   "metadata": {},
   "outputs": [
    {
     "data": {
      "text/plain": [
       "array([[1., 1., 1., 0., 0., 0.],\n",
       "       [1., 1., 1., 0., 0., 0.],\n",
       "       [1., 1., 1., 0., 0., 0.],\n",
       "       [0., 0., 0., 0., 0., 0.],\n",
       "       [0., 0., 0., 0., 0., 0.],\n",
       "       [0., 0., 0., 0., 0., 0.]])"
      ]
     },
     "execution_count": 5,
     "metadata": {},
     "output_type": "execute_result"
    }
   ],
   "source": [
    "K1"
   ]
  },
  {
   "cell_type": "code",
   "execution_count": 6,
   "metadata": {},
   "outputs": [
    {
     "data": {
      "text/plain": [
       "array([[1., 0., 0., 0., 0., 0.],\n",
       "       [0., 1., 0., 0., 0., 0.],\n",
       "       [0., 0., 1., 0., 0., 0.],\n",
       "       [0., 0., 0., 0., 0., 0.],\n",
       "       [0., 0., 0., 0., 0., 0.],\n",
       "       [0., 0., 0., 0., 0., 0.]])"
      ]
     },
     "execution_count": 6,
     "metadata": {},
     "output_type": "execute_result"
    }
   ],
   "source": [
    "Ki"
   ]
  },
  {
   "cell_type": "code",
   "execution_count": 8,
   "metadata": {},
   "outputs": [],
   "source": [
    "n = 3\n",
    "Z, W = getMT(n)\n",
    "eye = np.eye(n)\n",
    "ones = np.ones((n,n))\n",
    "zeros = np.zeros((n,n))\n",
    "Ko, K1, Ki, Kp = getConstraintMatrices(Z, W)\n",
    "Ko_ref = np.block([[eye, -W], [-W, W@W]])\n",
    "assert(np.allclose(Ko, Ko_ref))"
   ]
  },
  {
   "cell_type": "code",
   "execution_count": 10,
   "metadata": {},
   "outputs": [],
   "source": [
    "K1_ref = np.block([[ones, zeros], [zeros, zeros]])\n",
    "assert(np.allclose(K1, K1_ref))\n",
    "Ki_ref = np.block([[eye, zeros], [zeros, zeros]])\n",
    "assert(np.allclose(Ki, Ki_ref))"
   ]
  },
  {
   "cell_type": "code",
   "execution_count": 13,
   "metadata": {},
   "outputs": [
    {
     "name": "stdout",
     "output_type": "stream",
     "text": [
      "[[-1. -0. -0.  1.  0.  0.]\n",
      " [-0. -0. -0.  0.  0.  0.]\n",
      " [-0. -0. -0.  0.  0.  0.]\n",
      " [ 1.  0.  0.  3.  0.  0.]\n",
      " [ 0.  0.  0.  0.  0.  0.]\n",
      " [ 0.  0.  0.  0.  0.  0.]]\n",
      "[[ 0.   0.   0.   0.5  0.   0. ]\n",
      " [ 0.   0.   0.   0.   0.   0. ]\n",
      " [ 0.   0.   0.   0.   0.   0. ]\n",
      " [ 0.5  0.   0.  -2.  -0.  -0. ]\n",
      " [ 0.   0.   0.  -0.  -0.  -0. ]\n",
      " [ 0.   0.   0.  -0.  -0.  -0. ]]\n",
      "[[-0. -0. -0. -0.  0.  0.]\n",
      " [-0. -1. -0. -1.  1.  0.]\n",
      " [-0. -0. -0. -0.  0.  0.]\n",
      " [-0. -1. -0. -1.  1.  0.]\n",
      " [ 0.  1.  0.  1.  3.  0.]\n",
      " [ 0.  0.  0.  0.  0.  0.]]\n",
      "[[ 0.   0.   0.   0.   0.   0. ]\n",
      " [ 0.   0.   0.   0.   0.5  0. ]\n",
      " [ 0.   0.   0.   0.   0.   0. ]\n",
      " [ 0.   0.   0.   0.   0.5  0. ]\n",
      " [ 0.   0.5  0.   0.5 -2.  -0. ]\n",
      " [ 0.   0.   0.   0.  -0.  -0. ]]\n",
      "[[-0. -0. -0. -0. -0.  0.]\n",
      " [-0. -0. -0. -0. -0.  0.]\n",
      " [-0. -0. -1. -1. -1.  1.]\n",
      " [-0. -0. -1. -1. -1.  1.]\n",
      " [-0. -0. -1. -1. -1.  1.]\n",
      " [ 0.  0.  1.  1.  1.  3.]]\n",
      "[[ 0.   0.   0.   0.   0.   0. ]\n",
      " [ 0.   0.   0.   0.   0.   0. ]\n",
      " [ 0.   0.   0.   0.   0.   0.5]\n",
      " [ 0.   0.   0.   0.   0.   0.5]\n",
      " [ 0.   0.   0.   0.   0.   0.5]\n",
      " [ 0.   0.   0.5  0.5  0.5 -2. ]]\n"
     ]
    }
   ],
   "source": [
    "for k in Kp:\n",
    "    print(str(k))"
   ]
  },
  {
   "cell_type": "code",
   "execution_count": 14,
   "metadata": {},
   "outputs": [
    {
     "data": {
      "text/plain": [
       "[array([[-1., -0., -0.,  1.,  0.,  0.],\n",
       "        [-0., -0., -0.,  0.,  0.,  0.],\n",
       "        [-0., -0., -0.,  0.,  0.,  0.],\n",
       "        [ 1.,  0.,  0.,  3.,  0.,  0.],\n",
       "        [ 0.,  0.,  0.,  0.,  0.,  0.],\n",
       "        [ 0.,  0.,  0.,  0.,  0.,  0.]]),\n",
       " array([[ 0. ,  0. ,  0. ,  0.5,  0. ,  0. ],\n",
       "        [ 0. ,  0. ,  0. ,  0. ,  0. ,  0. ],\n",
       "        [ 0. ,  0. ,  0. ,  0. ,  0. ,  0. ],\n",
       "        [ 0.5,  0. ,  0. , -2. , -0. , -0. ],\n",
       "        [ 0. ,  0. ,  0. , -0. , -0. , -0. ],\n",
       "        [ 0. ,  0. ,  0. , -0. , -0. , -0. ]]),\n",
       " array([[-0., -0., -0., -0.,  0.,  0.],\n",
       "        [-0., -1., -0., -1.,  1.,  0.],\n",
       "        [-0., -0., -0., -0.,  0.,  0.],\n",
       "        [-0., -1., -0., -1.,  1.,  0.],\n",
       "        [ 0.,  1.,  0.,  1.,  3.,  0.],\n",
       "        [ 0.,  0.,  0.,  0.,  0.,  0.]]),\n",
       " array([[ 0. ,  0. ,  0. ,  0. ,  0. ,  0. ],\n",
       "        [ 0. ,  0. ,  0. ,  0. ,  0.5,  0. ],\n",
       "        [ 0. ,  0. ,  0. ,  0. ,  0. ,  0. ],\n",
       "        [ 0. ,  0. ,  0. ,  0. ,  0.5,  0. ],\n",
       "        [ 0. ,  0.5,  0. ,  0.5, -2. , -0. ],\n",
       "        [ 0. ,  0. ,  0. ,  0. , -0. , -0. ]]),\n",
       " array([[-0., -0., -0., -0., -0.,  0.],\n",
       "        [-0., -0., -0., -0., -0.,  0.],\n",
       "        [-0., -0., -1., -1., -1.,  1.],\n",
       "        [-0., -0., -1., -1., -1.,  1.],\n",
       "        [-0., -0., -1., -1., -1.,  1.],\n",
       "        [ 0.,  0.,  1.,  1.,  1.,  3.]]),\n",
       " array([[ 0. ,  0. ,  0. ,  0. ,  0. ,  0. ],\n",
       "        [ 0. ,  0. ,  0. ,  0. ,  0. ,  0. ],\n",
       "        [ 0. ,  0. ,  0. ,  0. ,  0. ,  0.5],\n",
       "        [ 0. ,  0. ,  0. ,  0. ,  0. ,  0.5],\n",
       "        [ 0. ,  0. ,  0. ,  0. ,  0. ,  0.5],\n",
       "        [ 0. ,  0. ,  0.5,  0.5,  0.5, -2. ]])]"
      ]
     },
     "execution_count": 14,
     "metadata": {},
     "output_type": "execute_result"
    }
   ],
   "source": [
    "Kp"
   ]
  },
  {
   "cell_type": "code",
   "execution_count": 15,
   "metadata": {},
   "outputs": [
    {
     "name": "stdout",
     "output_type": "stream",
     "text": [
      "No operators provided, using default LipschitzStronglyMonotoneOperator\n"
     ]
    }
   ],
   "source": [
    "n = 3\n",
    "Z, W = getMT(n)\n",
    "M = getIncidence(W)\n",
    "Ko, Ki, Kmus, Kls = getGramsOld(Z, M)\n",
    "Kon, Kin, Kpn = getReducedConstraintMatrices(Z, M)"
   ]
  },
  {
   "cell_type": "code",
   "execution_count": 16,
   "metadata": {},
   "outputs": [
    {
     "data": {
      "text/plain": [
       "array([[ 1.,  0., -1.,  1.,  0.],\n",
       "       [ 0.,  1.,  0., -1.,  1.],\n",
       "       [-1.,  0.,  1., -1.,  0.],\n",
       "       [ 1., -1., -1.,  2., -1.],\n",
       "       [ 0.,  1.,  0., -1.,  1.]])"
      ]
     },
     "execution_count": 16,
     "metadata": {},
     "output_type": "execute_result"
    }
   ],
   "source": [
    "Kon"
   ]
  },
  {
   "cell_type": "code",
   "execution_count": 19,
   "metadata": {},
   "outputs": [
    {
     "name": "stdout",
     "output_type": "stream",
     "text": [
      "No operators provided, using default LipschitzStronglyMonotoneOperator\n"
     ]
    }
   ],
   "source": [
    "n = 3\n",
    "Z, W = getMT(n)\n",
    "M = getIncidence(W)\n",
    "d = M.shape[0]\n",
    "Ko, Ki, Kmus, Kls = getGramsOld(Z, M)\n",
    "Kon, Kin, Kpn = getReducedConstraintMatrices(Z, M)\n",
    "eye = np.eye(d)\n",
    "Ko_ref = np.block([[eye, M], [M.T, M.T@M]])\n",
    "assert(np.allclose(Ko_ref, Kon))"
   ]
  },
  {
   "cell_type": "code",
   "execution_count": 20,
   "metadata": {},
   "outputs": [
    {
     "data": {
      "text/plain": [
       "array([[1., 0., 0., 0., 0.],\n",
       "       [0., 1., 0., 0., 0.],\n",
       "       [0., 0., 0., 0., 0.],\n",
       "       [0., 0., 0., 0., 0.],\n",
       "       [0., 0., 0., 0., 0.]])"
      ]
     },
     "execution_count": 20,
     "metadata": {},
     "output_type": "execute_result"
    }
   ],
   "source": [
    "Ki"
   ]
  },
  {
   "cell_type": "code",
   "execution_count": 22,
   "metadata": {},
   "outputs": [],
   "source": [
    "\n",
    "    Ki_ref = np.zeros((d+n, d+n))\n",
    "Ki_ref[:d, :d] = eye\n",
    "assert(np.allclose(Ki_ref, Kin))"
   ]
  },
  {
   "cell_type": "code",
   "execution_count": 23,
   "metadata": {},
   "outputs": [
    {
     "data": {
      "text/plain": [
       "[array([[-1.,  0.,  1.,  0.,  0.],\n",
       "        [ 0., -0., -0., -0., -0.],\n",
       "        [ 1., -0.,  3.,  0.,  0.],\n",
       "        [ 0., -0.,  0.,  0.,  0.],\n",
       "        [ 0., -0.,  0.,  0.,  0.]]),\n",
       " array([[ 0. ,  0. ,  0.5,  0. ,  0. ],\n",
       "        [ 0. ,  0. , -0. , -0. , -0. ],\n",
       "        [ 0.5, -0. , -2. , -0. , -0. ],\n",
       "        [ 0. , -0. , -0. , -0. , -0. ],\n",
       "        [ 0. , -0. , -0. , -0. , -0. ]]),\n",
       " array([[-1.,  1.,  1., -1., -0.],\n",
       "        [ 1., -1., -1.,  1.,  0.],\n",
       "        [ 1., -1., -1.,  1.,  0.],\n",
       "        [-1.,  1.,  1.,  3.,  0.],\n",
       "        [-0.,  0.,  0.,  0.,  0.]]),\n",
       " array([[ 0. ,  0. , -0. , -0.5, -0. ],\n",
       "        [ 0. ,  0. ,  0. ,  0.5,  0. ],\n",
       "        [-0. ,  0. ,  0. ,  0.5,  0. ],\n",
       "        [-0.5,  0.5,  0.5, -2. , -0. ],\n",
       "        [-0. ,  0. ,  0. , -0. , -0. ]]),\n",
       " array([[-0., -0.,  0.,  0., -0.],\n",
       "        [-0., -1.,  1.,  1., -1.],\n",
       "        [ 0.,  1., -1., -1.,  1.],\n",
       "        [ 0.,  1., -1., -1.,  1.],\n",
       "        [-0., -1.,  1.,  1.,  3.]]),\n",
       " array([[ 0. ,  0. , -0. , -0. , -0. ],\n",
       "        [ 0. ,  0. , -0. , -0. , -0.5],\n",
       "        [-0. , -0. ,  0. ,  0. ,  0.5],\n",
       "        [-0. , -0. ,  0. ,  0. ,  0.5],\n",
       "        [-0. , -0.5,  0.5,  0.5, -2. ]])]"
      ]
     },
     "execution_count": 23,
     "metadata": {},
     "output_type": "execute_result"
    }
   ],
   "source": [
    "Kpn"
   ]
  },
  {
   "cell_type": "code",
   "execution_count": 24,
   "metadata": {},
   "outputs": [],
   "source": [
    "Kpn_ref = [np.array([[-1.,  0.,  1.,  0.,  0.],\n",
    "                [ 0., -0., -0., -0., -0.],\n",
    "                [ 1., -0.,  3.,  0.,  0.],\n",
    "                [ 0., -0.,  0.,  0.,  0.],\n",
    "                [ 0., -0.,  0.,  0.,  0.]]),\n",
    "        np.array([[ 0. ,  0. ,  0.5,  0. ,  0. ],\n",
    "                [ 0. ,  0. , -0. , -0. , -0. ],\n",
    "                [ 0.5, -0. , -2. , -0. , -0. ],\n",
    "                [ 0. , -0. , -0. , -0. , -0. ],\n",
    "                [ 0. , -0. , -0. , -0. , -0. ]]),\n",
    "        np.array([[-1.,  1.,  1., -1., -0.],\n",
    "                [ 1., -1., -1.,  1.,  0.],\n",
    "                [ 1., -1., -1.,  1.,  0.],\n",
    "                [-1.,  1.,  1.,  3.,  0.],\n",
    "                [-0.,  0.,  0.,  0.,  0.]]),\n",
    "        np.array([[ 0. ,  0. , -0. , -0.5, -0. ],\n",
    "                [ 0. ,  0. ,  0. ,  0.5,  0. ],\n",
    "                [-0. ,  0. ,  0. ,  0.5,  0. ],\n",
    "                [-0.5,  0.5,  0.5, -2. , -0. ],\n",
    "                [-0. ,  0. ,  0. , -0. , -0. ]]),\n",
    "        np.array([[-0., -0.,  0.,  0., -0.],\n",
    "                [-0., -1.,  1.,  1., -1.],\n",
    "                [ 0.,  1., -1., -1.,  1.],\n",
    "                [ 0.,  1., -1., -1.,  1.],\n",
    "                [-0., -1.,  1.,  1.,  3.]]),\n",
    "        np.array([[ 0. ,  0. , -0. , -0. , -0. ],\n",
    "                [ 0. ,  0. , -0. , -0. , -0.5],\n",
    "                [-0. , -0. ,  0. ,  0. ,  0.5],\n",
    "                [-0. , -0. ,  0. ,  0. ,  0.5],\n",
    "                [-0. , -0.5,  0.5,  0.5, -2. ]])]\n",
    "for i in range(2*n):\n",
    "    assert(np.allclose(Kpn[i], Kpn_ref[i]))"
   ]
  },
  {
   "cell_type": "code",
   "execution_count": null,
   "metadata": {},
   "outputs": [],
   "source": []
  }
 ],
 "metadata": {
  "kernelspec": {
   "display_name": "oarstest",
   "language": "python",
   "name": "python3"
  },
  "language_info": {
   "codemirror_mode": {
    "name": "ipython",
    "version": 3
   },
   "file_extension": ".py",
   "mimetype": "text/x-python",
   "name": "python",
   "nbconvert_exporter": "python",
   "pygments_lexer": "ipython3",
   "version": "3.12.2"
  }
 },
 "nbformat": 4,
 "nbformat_minor": 2
}
