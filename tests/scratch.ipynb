{
 "cells": [
  {
   "cell_type": "code",
   "execution_count": 1,
   "metadata": {},
   "outputs": [],
   "source": [
    "import oars.pep\n",
    "from oars.matrices import *\n",
    "import numpy as np\n",
    "np.set_printoptions(precision=3, suppress=True, linewidth=200)\n",
    "from importlib import reload\n",
    "# import algorithm_test\n"
   ]
  },
  {
   "cell_type": "code",
   "execution_count": 67,
   "metadata": {},
   "outputs": [
    {
     "name": "stdout",
     "output_type": "stream",
     "text": [
      "[[ 2.     0.    -1.174 -0.826]\n",
      " [ 0.     2.    -0.826 -1.174]\n",
      " [-1.174 -0.826  2.     0.   ]\n",
      " [-0.826 -1.174  0.     2.   ]]\n",
      "[[ 1.76  -0.704 -1.056  0.   ]\n",
      " [-0.704  2.6   -0.84  -1.056]\n",
      " [-1.056 -0.84   2.6   -0.704]\n",
      " [ 0.    -1.056 -0.704  1.76 ]]\n",
      "No operators provided, using default LipschitzStronglyMonotoneOperator\n"
     ]
    },
    {
     "data": {
      "text/plain": [
       "(3.999999999837023, 0.8710384634942585, 6.0, 23.999999999022137)"
      ]
     },
     "execution_count": 67,
     "metadata": {},
     "output_type": "execute_result"
    }
   ],
   "source": [
    "from oars.matrices import getMT\n",
    "Z, W = getMinResist(4,  fixed_W={(3, 0): 0}, fixed_Z={(1, 0): 0}, gamma=1.5)\n",
    "print(Z)\n",
    "print(W)\n",
    "getMetrics(Z, W)"
   ]
  },
  {
   "cell_type": "code",
   "execution_count": 2,
   "metadata": {},
   "outputs": [
    {
     "name": "stdout",
     "output_type": "stream",
     "text": [
      "[[-1.  0.  1.  0.]\n",
      " [ 0. -1.  1.  0.]\n",
      " [-1.  0.  0.  1.]\n",
      " [ 0. -1.  0.  1.]]\n"
     ]
    },
    {
     "data": {
      "text/plain": [
       "array([[ 2.,  0., -1., -1.],\n",
       "       [ 0.,  2., -1., -1.],\n",
       "       [-1., -1.,  2.,  0.],\n",
       "       [-1., -1.,  0.,  2.]])"
      ]
     },
     "execution_count": 2,
     "metadata": {},
     "output_type": "execute_result"
    }
   ],
   "source": [
    "Z, W = getTwoBlockSimilar(4)\n",
    "M = getIncidence(W)\n",
    "print(M)\n",
    "M.T@M"
   ]
  },
  {
   "cell_type": "code",
   "execution_count": 15,
   "metadata": {},
   "outputs": [
    {
     "name": "stdout",
     "output_type": "stream",
     "text": [
      "-21.110182400713047\n",
      "[[-1.239  0.48   0.609 -2.292 -0.995]\n",
      " [ 0.48  -1.723 -2.476  0.201  1.482]\n",
      " [ 0.609 -2.476 -1.012 -0.921  0.091]\n",
      " [-2.292  0.201 -0.921 -3.767  1.027]\n",
      " [-0.995  1.482  0.091  1.027  4.062]]\n",
      "[-5.199 -4.308 -0.046  0.984  4.89 ]\n",
      "[[ 5.513  0.48   0.609 -2.292 -0.995]\n",
      " [ 0.48   5.029 -2.476  0.201  1.482]\n",
      " [ 0.609 -2.476  5.74  -0.921  0.091]\n",
      " [-2.292  0.201 -0.921  2.985  1.027]\n",
      " [-0.995  1.482  0.091  1.027 10.815]]\n",
      "[ 1.553  2.444  6.707  7.736 11.642]\n",
      "15.098692670029207\n",
      "6.752340636312622\n",
      "[[ 3.96   0.48   0.609 -2.292 -0.995]\n",
      " [ 0.48   3.476 -2.476  0.201  1.482]\n",
      " [ 0.609 -2.476  4.187 -0.921  0.091]\n",
      " [-2.292  0.201 -0.921  1.432  1.027]\n",
      " [-0.995  1.482  0.091  1.027  9.262]]\n",
      "[ 0.     0.891  5.153  6.183 10.089]\n",
      "11.625692811205099\n",
      "5.199167882277046\n"
     ]
    }
   ],
   "source": [
    "from oars.utils import psdCone, psdConeAlt\n",
    "\n",
    "n = 5\n",
    "dim = (n, n)\n",
    "X = np.random.randn(n,n)\n",
    "X = X + X.T\n",
    "minmin = sum(X[X < 0])\n",
    "print(minmin)\n",
    "print(X)\n",
    "eigs = np.linalg.eigvalsh(X)\n",
    "print(eigs)\n",
    "d = sum(e**2 for e in eigs if e < 0)\n",
    "YB  = X + d**0.5 *np.eye(n)\n",
    "print(YB)\n",
    "print(np.linalg.eigvalsh(YB))\n",
    "print(np.linalg.norm(YB - X, 'fro'))\n",
    "print(np.linalg.norm(YB - X, 2))\n",
    "YC = X - eigs[0]*np.eye(n)\n",
    "print(YC)\n",
    "print(np.linalg.eigvalsh(YC))\n",
    "print(np.linalg.norm(YC - X, 'fro'))\n",
    "print(np.linalg.norm(YC - X, 2))"
   ]
  },
  {
   "cell_type": "code",
   "execution_count": 16,
   "metadata": {},
   "outputs": [
    {
     "name": "stdout",
     "output_type": "stream",
     "text": [
      "[[ 0.236 -0.32   0.238 -0.212 -0.915]\n",
      " [-0.32   0.566 -0.563  0.307  0.949]\n",
      " [ 0.238 -0.563  0.677 -0.249 -0.39 ]\n",
      " [-0.212  0.307 -0.249  0.194  0.782]\n",
      " [-0.915  0.949 -0.39   0.782  4.201]]\n",
      "[-0.     0.     0.     0.984  4.89 ]\n",
      "6.7523406363126215\n",
      "5.199167882277043\n"
     ]
    }
   ],
   "source": [
    "cone = psdCone(dim)\n",
    "coneAlt = psdConeAlt(dim)\n",
    "Y = cone.prox(X)\n",
    "print(Y)\n",
    "print( np.linalg.eigvalsh(Y) )\n",
    "print( np.linalg.norm(Y-X, ord='fro') )\n",
    "print( np.linalg.norm(Y-X, 2) )"
   ]
  },
  {
   "cell_type": "code",
   "execution_count": 12,
   "metadata": {},
   "outputs": [
    {
     "name": "stdout",
     "output_type": "stream",
     "text": [
      "[[ 7.41  -0.997 -1.176 -1.824  0.892]\n",
      " [-0.997  1.956  0.339  0.597  2.213]\n",
      " [-1.176  0.339  5.504  0.288 -2.207]\n",
      " [-1.824  0.597  0.288  3.438 -2.006]\n",
      " [ 0.892  2.213 -2.207 -2.006  5.827]]\n",
      "[ 0.     2.628  4.51   6.952 10.046]\n",
      "8.12901091728069\n",
      "8.12901091728069\n"
     ]
    }
   ],
   "source": [
    "YA = coneAlt.prox(X)\n",
    "print(YA)\n",
    "print( np.linalg.eigvalsh(YA) )\n",
    "print( np.linalg.norm(YA-X) )\n",
    "print( np.linalg.norm(YA-X, ord='fro') )\n"
   ]
  },
  {
   "cell_type": "code",
   "execution_count": 61,
   "metadata": {},
   "outputs": [
    {
     "name": "stdout",
     "output_type": "stream",
     "text": [
      "[[ 6.815  0.991  1.001 ... -0.675  0.453 -0.197]\n",
      " [ 0.991  6.762 -0.409 ...  0.013  0.24  -0.734]\n",
      " [ 1.001 -0.409  6.389 ... -1.31  -0.737  0.342]\n",
      " ...\n",
      " [-0.675  0.013 -1.31  ...  4.551 -0.45   0.081]\n",
      " [ 0.453  0.24  -0.737 ... -0.45   5.047 -1.448]\n",
      " [-0.197 -0.734  0.342 ...  0.081 -1.448  4.531]]\n"
     ]
    },
    {
     "data": {
      "text/plain": [
       "array([[ 6.815,  0.991,  1.001, ..., -0.675,  0.453, -0.197],\n",
       "       [ 0.991,  6.762, -0.409, ...,  0.013,  0.24 , -0.734],\n",
       "       [ 1.001, -0.409,  6.389, ..., -1.31 , -0.737,  0.342],\n",
       "       ...,\n",
       "       [-0.675,  0.013, -1.31 , ...,  4.551, -0.45 ,  0.081],\n",
       "       [ 0.453,  0.24 , -0.737, ..., -0.45 ,  5.047, -1.448],\n",
       "       [-0.197, -0.734,  0.342, ...,  0.081, -1.448,  4.531]])"
      ]
     },
     "execution_count": 61,
     "metadata": {},
     "output_type": "execute_result"
    }
   ],
   "source": [
    "from scipy.linalg.lapack import dsyevr\n",
    "\n",
    "\n",
    "def fastalt(X, n_sq):\n",
    "    m = np.max(X)\n",
    "    eigs, mat, num, isupp, info = dsyevr(X, compute_v=1, range='V', vl=0, vu=m*n_sq, abstol=1e-6)\n",
    "    YB = mat[:,:num] @ np.diag(eigs[0:num]) @ mat[:,:num].T\n",
    "    return YB\n",
    "\n",
    "def fastalt2(X):\n",
    "    minmin = sum(X[X < 0])\n",
    "    eigs, mat, num, isupp, info = dsyevr(X, compute_v=1, range='V', vl=minmin, vu=0, abstol=1e-6)\n",
    "    YB = X - mat[:,:num] @ np.diag(eigs[0:num]) @ mat[:,:num].T\n",
    "    return YB\n",
    "\n",
    "def fastalt3(X, n_sq):\n",
    "    m = np.min(X)\n",
    "    eigs, mat, num, isupp, info = dsyevr(X, compute_v=1, range='V', vl=m*n_sq, vu=0, abstol=1e-6)\n",
    "    YB = X - mat[:,:num] @ np.diag(eigs[0:num]) @ mat[:,:num].T\n",
    "    return YB\n",
    "\n",
    "print(fastalt(X, 25))\n",
    "fastalt2(X)"
   ]
  },
  {
   "cell_type": "code",
   "execution_count": 47,
   "metadata": {},
   "outputs": [
    {
     "name": "stdout",
     "output_type": "stream",
     "text": [
      "2.565681985594567\n",
      "[[ 0.678 -0.552 -0.144 -1.315  0.057]\n",
      " [-0.552  0.484 -0.06   1.175  0.154]\n",
      " [-0.144 -0.06   0.944 -0.252 -1.046]\n",
      " [-1.315  1.175 -0.252  2.862  0.49 ]\n",
      " [ 0.057  0.154 -1.046  0.49   1.174]]\n"
     ]
    }
   ],
   "source": [
    "m = np.max(X)\n",
    "print(m)\n",
    "n = 5\n",
    "eigs, mat, num, isupp, info = dsyevr(X, compute_v=1, range='V', vl=0, vu=m*n**2, abstol=1e-6)\n",
    "YB = mat[:,:num] @ np.diag(eigs[0:num]) @ mat[:,:num].T\n",
    "print(YB)"
   ]
  },
  {
   "cell_type": "code",
   "execution_count": 52,
   "metadata": {},
   "outputs": [],
   "source": [
    "X = np.random.randn(n,n)"
   ]
  },
  {
   "cell_type": "code",
   "execution_count": 62,
   "metadata": {},
   "outputs": [
    {
     "name": "stdout",
     "output_type": "stream",
     "text": [
      "0\n",
      "759 µs ± 109 µs per loop (mean ± std. dev. of 7 runs, 1,000 loops each)\n",
      "5.64 ms ± 641 µs per loop (mean ± std. dev. of 7 runs, 100 loops each)\n",
      "7.4 ms ± 730 µs per loop (mean ± std. dev. of 7 runs, 100 loops each)\n",
      "7.69 ms ± 298 µs per loop (mean ± std. dev. of 7 runs, 100 loops each)\n",
      "1\n",
      "1.04 ms ± 189 µs per loop (mean ± std. dev. of 7 runs, 1,000 loops each)\n",
      "7.93 ms ± 545 µs per loop (mean ± std. dev. of 7 runs, 100 loops each)\n",
      "8.28 ms ± 195 µs per loop (mean ± std. dev. of 7 runs, 100 loops each)\n",
      "7.69 ms ± 180 µs per loop (mean ± std. dev. of 7 runs, 100 loops each)\n",
      "2\n",
      "988 µs ± 44.7 µs per loop (mean ± std. dev. of 7 runs, 1,000 loops each)\n",
      "7.71 ms ± 260 µs per loop (mean ± std. dev. of 7 runs, 100 loops each)\n",
      "8.57 ms ± 252 µs per loop (mean ± std. dev. of 7 runs, 100 loops each)\n",
      "7.78 ms ± 202 µs per loop (mean ± std. dev. of 7 runs, 100 loops each)\n",
      "3\n",
      "1.02 ms ± 76.9 µs per loop (mean ± std. dev. of 7 runs, 1,000 loops each)\n",
      "7.77 ms ± 148 µs per loop (mean ± std. dev. of 7 runs, 100 loops each)\n",
      "8.45 ms ± 297 µs per loop (mean ± std. dev. of 7 runs, 100 loops each)\n",
      "7.69 ms ± 149 µs per loop (mean ± std. dev. of 7 runs, 100 loops each)\n",
      "4\n",
      "962 µs ± 52.8 µs per loop (mean ± std. dev. of 7 runs, 1,000 loops each)\n",
      "8.2 ms ± 724 µs per loop (mean ± std. dev. of 7 runs, 100 loops each)\n",
      "8.29 ms ± 202 µs per loop (mean ± std. dev. of 7 runs, 100 loops each)\n",
      "7.56 ms ± 244 µs per loop (mean ± std. dev. of 7 runs, 100 loops each)\n"
     ]
    }
   ],
   "source": [
    "np.random.seed(1)\n",
    "n = 100\n",
    "n_sq = n**2\n",
    "dim = (n, n)\n",
    "for i in range(5):\n",
    "    print(i)\n",
    "    X = np.random.randn(n,n)\n",
    "    X = X + X.T\n",
    "    cone = psdCone(dim)\n",
    "    \n",
    "    %timeit cone.prox(X)\n",
    "    %timeit fastalt(X, n_sq)\n",
    "    %timeit fastalt2(X)\n",
    "    %timeit fastalt3(X, n_sq)"
   ]
  },
  {
   "cell_type": "code",
   "execution_count": 54,
   "metadata": {},
   "outputs": [
    {
     "name": "stdout",
     "output_type": "stream",
     "text": [
      "19.1 µs ± 1.55 µs per loop (mean ± std. dev. of 7 runs, 10,000 loops each)\n"
     ]
    }
   ],
   "source": [
    "%timeit fastalt(X)"
   ]
  },
  {
   "cell_type": "code",
   "execution_count": 55,
   "metadata": {},
   "outputs": [
    {
     "name": "stdout",
     "output_type": "stream",
     "text": [
      "22.3 µs ± 3.11 µs per loop (mean ± std. dev. of 7 runs, 100,000 loops each)\n"
     ]
    }
   ],
   "source": [
    "%timeit fastalt2(X)"
   ]
  },
  {
   "cell_type": "code",
   "execution_count": 57,
   "metadata": {},
   "outputs": [
    {
     "name": "stdout",
     "output_type": "stream",
     "text": [
      "20 µs ± 2.97 µs per loop (mean ± std. dev. of 7 runs, 100,000 loops each)\n"
     ]
    }
   ],
   "source": [
    "%timeit fastalt3(X)"
   ]
  },
  {
   "cell_type": "code",
   "execution_count": 63,
   "metadata": {},
   "outputs": [
    {
     "name": "stdout",
     "output_type": "stream",
     "text": [
      "[[ 0.017  1.     1.    ... -0.017 -0.017 -0.017]\n",
      " [ 1.     0.017  1.    ... -0.017 -0.017 -0.017]\n",
      " [ 1.     1.     0.017 ... -0.017 -0.017 -0.017]\n",
      " ...\n",
      " [-0.017 -0.017 -0.017 ... -0.019  0.067  0.068]\n",
      " [-0.017 -0.017 -0.017 ...  0.067 -0.018  0.068]\n",
      " [-0.017 -0.017 -0.017 ...  0.068  0.068 -0.017]]\n",
      "7.14 ms ± 936 µs per loop (mean ± std. dev. of 7 runs, 100 loops each)\n",
      "18.9 ms ± 5.36 ms per loop (mean ± std. dev. of 7 runs, 10 loops each)\n"
     ]
    }
   ],
   "source": [
    "tgt_n = 60\n",
    "Z, W = getFull(tgt_n)\n",
    "Ko, K1, Ki, Kp = oars.pep.getConstraintMatrices(Z, W, gamma=0.5)\n",
    "\n",
    "G = sum([-Ko, K1, (1+1/tgt_n)*Ki] + Kp)\n",
    "print(G)\n",
    "\n",
    "%timeit [np.trace(A @ G) for A in Kp]\n",
    "\n",
    "# Make sparse\n",
    "sparseKp = [sparse.csr_matrix(A) for A in Kp]\n",
    "sparseG = sparse.csr_matrix(G)\n",
    "\n",
    "%timeit [(A.multiply(sparseG)).sum() for A in sparseKp]\n"
   ]
  },
  {
   "cell_type": "code",
   "execution_count": 3,
   "metadata": {},
   "outputs": [
    {
     "name": "stdout",
     "output_type": "stream",
     "text": [
      "[[ 2.     0.     0.    -0.667 -0.667 -0.667]\n",
      " [ 0.     2.     0.    -0.667 -0.667 -0.667]\n",
      " [ 0.     0.     2.    -0.667 -0.667 -0.667]\n",
      " [-0.667 -0.667 -0.667  2.     0.     0.   ]\n",
      " [-0.667 -0.667 -0.667  0.     2.     0.   ]\n",
      " [-0.667 -0.667 -0.667  0.     0.     2.   ]]\n",
      "[[ 2.     0.     0.    -0.667 -0.667 -0.667]\n",
      " [ 0.     2.     0.    -0.667 -0.667 -0.667]\n",
      " [ 0.     0.     2.    -0.667 -0.667 -0.667]\n",
      " [-0.667 -0.667 -0.667  2.     0.     0.   ]\n",
      " [-0.667 -0.667 -0.667  0.     2.     0.   ]\n",
      " [-0.667 -0.667 -0.667  0.     0.     2.   ]]\n"
     ]
    }
   ],
   "source": [
    "n = 6\n",
    "Z, W = getTwoBlockSimilar(n)\n",
    "print(Z)\n",
    "print(W)"
   ]
  },
  {
   "cell_type": "code",
   "execution_count": 7,
   "metadata": {},
   "outputs": [
    {
     "name": "stdout",
     "output_type": "stream",
     "text": [
      "[[ 2.     0.     0.    -0.667 -0.667 -0.667]\n",
      " [ 0.     2.    -0.    -0.667 -0.667 -0.667]\n",
      " [ 0.    -0.     2.    -0.667 -0.667 -0.667]\n",
      " [-0.667 -0.667 -0.667  2.    -0.    -0.   ]\n",
      " [-0.667 -0.667 -0.667 -0.     2.    -0.   ]\n",
      " [-0.667 -0.667 -0.667 -0.    -0.     2.   ]]\n",
      "[[ 1.756 -0.244 -0.244 -0.423 -0.423 -0.423]\n",
      " [-0.244  1.756 -0.244 -0.423 -0.423 -0.423]\n",
      " [-0.244 -0.244  1.756 -0.423 -0.423 -0.423]\n",
      " [-0.423 -0.423 -0.423  1.756 -0.244 -0.244]\n",
      " [-0.423 -0.423 -0.423 -0.244  1.756 -0.244]\n",
      " [-0.423 -0.423 -0.423 -0.244 -0.244  1.756]]\n",
      "[0. 2. 2. 2. 2. 4.]\n",
      "[-0.     2.     2.     2.     2.     2.538]\n"
     ]
    }
   ],
   "source": [
    "n = 6\n",
    "Z, W = getBlockMin(n, n//2, objective=getMaxConnectivity)\n",
    "print(Z)\n",
    "print(W)\n",
    "print(np.linalg.eigvalsh(Z))\n",
    "print(np.linalg.eigvalsh(W))"
   ]
  },
  {
   "cell_type": "code",
   "execution_count": 5,
   "metadata": {},
   "outputs": [
    {
     "name": "stdout",
     "output_type": "stream",
     "text": [
      "[[ 2.  -0.  -0.  -0.  -0.5 -0.5 -0.5 -0.5]\n",
      " [-0.   2.   0.   0.  -0.5 -0.5 -0.5 -0.5]\n",
      " [-0.   0.   2.   0.  -0.5 -0.5 -0.5 -0.5]\n",
      " [-0.   0.   0.   2.  -0.5 -0.5 -0.5 -0.5]\n",
      " [-0.5 -0.5 -0.5 -0.5  2.   0.   0.   0. ]\n",
      " [-0.5 -0.5 -0.5 -0.5  0.   2.   0.   0. ]\n",
      " [-0.5 -0.5 -0.5 -0.5  0.   0.   2.   0. ]\n",
      " [-0.5 -0.5 -0.5 -0.5  0.   0.   0.   2. ]]\n",
      "[[ 1.75 -0.25 -0.25 -0.25 -0.25 -0.25 -0.25 -0.25]\n",
      " [-0.25  1.75 -0.25 -0.25 -0.25 -0.25 -0.25 -0.25]\n",
      " [-0.25 -0.25  1.75 -0.25 -0.25 -0.25 -0.25 -0.25]\n",
      " [-0.25 -0.25 -0.25  1.75 -0.25 -0.25 -0.25 -0.25]\n",
      " [-0.25 -0.25 -0.25 -0.25  1.75 -0.25 -0.25 -0.25]\n",
      " [-0.25 -0.25 -0.25 -0.25 -0.25  1.75 -0.25 -0.25]\n",
      " [-0.25 -0.25 -0.25 -0.25 -0.25 -0.25  1.75 -0.25]\n",
      " [-0.25 -0.25 -0.25 -0.25 -0.25 -0.25 -0.25  1.75]]\n",
      "[0. 2. 2. 2. 2. 2. 2. 4.]\n",
      "[0. 2. 2. 2. 2. 2. 2. 2.]\n"
     ]
    }
   ],
   "source": [
    "n = 8\n",
    "Z, W = getBlockMin(n, n//2, objective=getMinSLEM)\n",
    "print(Z)\n",
    "print(W)\n",
    "print(np.linalg.eigvalsh(Z))\n",
    "print(np.linalg.eigvalsh(W))"
   ]
  },
  {
   "cell_type": "code",
   "execution_count": 7,
   "metadata": {},
   "outputs": [
    {
     "name": "stdout",
     "output_type": "stream",
     "text": [
      "[[ 2.   0.   0.   0.  -0.5 -0.5 -0.5 -0.5]\n",
      " [ 0.   2.   0.   0.  -0.5 -0.5 -0.5 -0.5]\n",
      " [ 0.   0.   2.   0.  -0.5 -0.5 -0.5 -0.5]\n",
      " [ 0.   0.   0.   2.  -0.5 -0.5 -0.5 -0.5]\n",
      " [-0.5 -0.5 -0.5 -0.5  2.   0.   0.   0. ]\n",
      " [-0.5 -0.5 -0.5 -0.5  0.   2.   0.   0. ]\n",
      " [-0.5 -0.5 -0.5 -0.5  0.   0.   2.   0. ]\n",
      " [-0.5 -0.5 -0.5 -0.5  0.   0.   0.   2. ]]\n",
      "[[ 1.75 -0.25 -0.25 -0.25 -0.25 -0.25 -0.25 -0.25]\n",
      " [-0.25  1.75 -0.25 -0.25 -0.25 -0.25 -0.25 -0.25]\n",
      " [-0.25 -0.25  1.75 -0.25 -0.25 -0.25 -0.25 -0.25]\n",
      " [-0.25 -0.25 -0.25  1.75 -0.25 -0.25 -0.25 -0.25]\n",
      " [-0.25 -0.25 -0.25 -0.25  1.75 -0.25 -0.25 -0.25]\n",
      " [-0.25 -0.25 -0.25 -0.25 -0.25  1.75 -0.25 -0.25]\n",
      " [-0.25 -0.25 -0.25 -0.25 -0.25 -0.25  1.75 -0.25]\n",
      " [-0.25 -0.25 -0.25 -0.25 -0.25 -0.25 -0.25  1.75]]\n"
     ]
    }
   ],
   "source": [
    "import oars.matrices.prebuilt\n",
    "\n",
    "Z, W = oars.matrices.prebuilt.getTwoBlockSLEM(n)\n",
    "print(Z)\n",
    "print(W)"
   ]
  },
  {
   "cell_type": "code",
   "execution_count": 45,
   "metadata": {},
   "outputs": [
    {
     "data": {
      "text/plain": [
       "(array([0, 4, 5, 6, 7], dtype=int64),)"
      ]
     },
     "execution_count": 45,
     "metadata": {},
     "output_type": "execute_result"
    }
   ],
   "source": [
    "for i in range(Z.shape[0]):\n",
    "    for j in range(Z.shape[1]):\n",
    "        if abs(Z[i,j]) < 1e-5:\n",
    "            Z[i,j] = 0\n",
    "\n",
    "Z[0].nonzero()\n"
   ]
  },
  {
   "cell_type": "code",
   "execution_count": 35,
   "metadata": {},
   "outputs": [
    {
     "name": "stdout",
     "output_type": "stream",
     "text": [
      "[[ 2.   0.   0.   0.  -0.5 -0.5 -0.5 -0.5]\n",
      " [ 0.   2.   0.   0.  -0.5 -0.5 -0.5 -0.5]\n",
      " [ 0.   0.   2.   0.  -0.5 -0.5 -0.5 -0.5]\n",
      " [ 0.   0.   0.   2.  -0.5 -0.5 -0.5 -0.5]\n",
      " [-0.5 -0.5 -0.5 -0.5  2.   0.   0.   0. ]\n",
      " [-0.5 -0.5 -0.5 -0.5  0.   2.   0.   0. ]\n",
      " [-0.5 -0.5 -0.5 -0.5  0.   0.   2.   0. ]\n",
      " [-0.5 -0.5 -0.5 -0.5  0.   0.   0.   2. ]]\n",
      "[[ 2.  -0.  -0.  -0.  -0.5 -0.5 -0.5 -0.5]\n",
      " [-0.   2.  -0.  -0.  -0.5 -0.5 -0.5 -0.5]\n",
      " [-0.  -0.   2.  -0.  -0.5 -0.5 -0.5 -0.5]\n",
      " [-0.  -0.  -0.   2.  -0.5 -0.5 -0.5 -0.5]\n",
      " [-0.5 -0.5 -0.5 -0.5  2.  -0.  -0.  -0. ]\n",
      " [-0.5 -0.5 -0.5 -0.5 -0.   2.  -0.  -0. ]\n",
      " [-0.5 -0.5 -0.5 -0.5 -0.  -0.   2.  -0. ]\n",
      " [-0.5 -0.5 -0.5 -0.5 -0.  -0.  -0.   2. ]]\n",
      "[0. 2. 2. 2. 2. 2. 2. 4.]\n",
      "[-0.  2.  2.  2.  2.  2.  2.  4.]\n"
     ]
    }
   ],
   "source": [
    "Z, W = getBlockMin(n, n//2, objective=getMinResist)\n",
    "print(Z)\n",
    "print(W)\n",
    "print(np.linalg.eigvalsh(Z))\n",
    "print(np.linalg.eigvalsh(W))"
   ]
  },
  {
   "cell_type": "code",
   "execution_count": 37,
   "metadata": {},
   "outputs": [
    {
     "name": "stdout",
     "output_type": "stream",
     "text": [
      "[ 0  1  2  3  4  5  6  7  8  9 10 11 12 13 14 15 16 17 18 19 20 21 22 23 24 25 26 27 28 29 30 31 32 33 34 35 36 37 38 39]\n",
      "[ 2.  -0.5 -0.5 -0.5 -0.5  2.  -0.5 -0.5 -0.5 -0.5  2.  -0.5 -0.5 -0.5 -0.5  2.  -0.5 -0.5 -0.5 -0.5 -0.5 -0.5 -0.5 -0.5  2.  -0.5 -0.5 -0.5 -0.5  2.  -0.5 -0.5 -0.5 -0.5  2.  -0.5 -0.5 -0.5 -0.5\n",
      "  2. ]\n",
      "[ 0 40]\n"
     ]
    },
    {
     "data": {
      "text/plain": [
       "array([[ True, False, False, False,  True,  True,  True,  True],\n",
       "       [False,  True, False, False,  True,  True,  True,  True],\n",
       "       [False, False,  True, False,  True,  True,  True,  True],\n",
       "       [False, False, False,  True,  True,  True,  True,  True],\n",
       "       [ True,  True,  True,  True,  True, False, False, False],\n",
       "       [ True,  True,  True,  True, False,  True, False, False],\n",
       "       [ True,  True,  True,  True, False, False,  True, False],\n",
       "       [ True,  True,  True,  True, False, False, False,  True]])"
      ]
     },
     "execution_count": 37,
     "metadata": {},
     "output_type": "execute_result"
    }
   ],
   "source": [
    "Zsparse = sparse.csr_array()\n",
    "Zsparse.prune()\n",
    "print(Zsparse.indices)\n",
    "print(Zsparse.data)\n",
    "print(Zsparse.indptr)\n",
    "Zsparse.toarray()\n",
    "abs(Z)>1e-5\n"
   ]
  },
  {
   "cell_type": "code",
   "execution_count": 53,
   "metadata": {},
   "outputs": [
    {
     "name": "stdout",
     "output_type": "stream",
     "text": [
      "(array([2., 2., 2., 2., 2., 4.]), array([[-0.003,  0.   , -0.003,  0.   ,  0.   , -0.354],\n",
      "       [ 0.01 ,  0.039,  0.001, -0.81 ,  0.095, -0.354],\n",
      "       [-0.075, -0.016, -0.001,  0.322, -0.746, -0.354],\n",
      "       [ 0.067, -0.023,  0.003,  0.488,  0.651, -0.354],\n",
      "       [ 0.234, -0.243, -0.797, -0.011, -0.022,  0.354],\n",
      "       [ 0.399, -0.497,  0.584, -0.024, -0.042,  0.354],\n",
      "       [-0.853, -0.087,  0.087, -0.004,  0.086,  0.354],\n",
      "       [ 0.22 ,  0.827,  0.126,  0.04 , -0.023,  0.354]]))\n",
      "[-0.  2.  2.  2.  2.  2.  2.  4.]\n"
     ]
    }
   ],
   "source": [
    "Zsparse = sparse.csr_matrix(Z)\n",
    "from scipy.sparse.linalg import eigsh\n",
    "\n",
    "print(eigsh(Zsparse))\n",
    "print(np.linalg.eigvalsh(Z))"
   ]
  },
  {
   "cell_type": "code",
   "execution_count": 52,
   "metadata": {},
   "outputs": [
    {
     "data": {
      "text/plain": [
       "(8, 8)"
      ]
     },
     "execution_count": 52,
     "metadata": {},
     "output_type": "execute_result"
    }
   ],
   "source": [
    "Zsparse.shape"
   ]
  },
  {
   "cell_type": "code",
   "execution_count": 11,
   "metadata": {},
   "outputs": [
    {
     "data": {
      "text/plain": [
       "3.3498984029572885"
      ]
     },
     "execution_count": 11,
     "metadata": {},
     "output_type": "execute_result"
    }
   ],
   "source": [
    "Dimension = 2**12\n",
    "from scipy.sparse import rand\n",
    "A = rand(Dimension, Dimension, density=0.001, format='csr')\n",
    "B = rand(Dimension, Dimension, density=0.001, format='csr')\n",
    "\n",
    "(A.T * B).trace()"
   ]
  },
  {
   "cell_type": "code",
   "execution_count": 19,
   "metadata": {},
   "outputs": [
    {
     "data": {
      "text/plain": [
       "array([[2., 0., 0., 0.],\n",
       "       [0., 2., 0., 0.],\n",
       "       [0., 0., 2., 0.],\n",
       "       [0., 0., 0., 2.]])"
      ]
     },
     "execution_count": 19,
     "metadata": {},
     "output_type": "execute_result"
    }
   ],
   "source": [
    "from scipy import sparse\n",
    "\n",
    "dim = (4,4)\n",
    "M = sparse.csr_array(dim, dtype=np.float64)\n",
    "M += sparse.eye(dim[0], dim[1], format='csr')\n",
    "M *= 2\n",
    "M.toarray()"
   ]
  },
  {
   "cell_type": "code",
   "execution_count": 16,
   "metadata": {},
   "outputs": [
    {
     "name": "stdout",
     "output_type": "stream",
     "text": [
      "406 µs ± 25.3 µs per loop (mean ± std. dev. of 7 runs, 1,000 loops each)\n"
     ]
    }
   ],
   "source": [
    "%timeit (A.multiply(B)).sum()"
   ]
  },
  {
   "cell_type": "code",
   "execution_count": 17,
   "metadata": {},
   "outputs": [
    {
     "name": "stdout",
     "output_type": "stream",
     "text": [
      "1.33 ms ± 70.2 µs per loop (mean ± std. dev. of 7 runs, 1,000 loops each)\n"
     ]
    }
   ],
   "source": [
    "%timeit sum((A.T @ B).diagonal())"
   ]
  },
  {
   "cell_type": "code",
   "execution_count": 13,
   "metadata": {},
   "outputs": [
    {
     "name": "stdout",
     "output_type": "stream",
     "text": [
      "var34300\n",
      "var34299\n",
      "[[ 2. -1. -1. -0.]\n",
      " [-1.  2. -0. -1.]\n",
      " [-1. -0.  2. -1.]\n",
      " [-0. -1. -1.  2.]]\n",
      "[[ 2. -1. -1.  0.]\n",
      " [-1.  2.  0. -1.]\n",
      " [-1.  0.  2. -1.]\n",
      " [ 0. -1. -1.  2.]]\n"
     ]
    }
   ],
   "source": [
    "import cvxpy as cvx\n",
    "from oars.matrices import getCore\n",
    "Z, W, cons = getCore(4, fixed_W={(3, 0): 0})\n",
    "obj = cvx.Minimize(cvx.norm(Z-W, 'fro'))\n",
    "prob = cvx.Problem(obj, cons)\n",
    "prob.solve()\n",
    "print(Z.value)\n",
    "print(W.value)"
   ]
  },
  {
   "cell_type": "code",
   "execution_count": 17,
   "metadata": {},
   "outputs": [
    {
     "data": {
      "text/plain": [
       "array([[ 2.   , -0.   , -0.   , -0.   , -0.   , -0.   , -0.   , -0.   , -0.   , -0.   , -0.   , -0.   , -0.167, -0.167, -0.167, -0.167, -0.167, -0.167, -0.167, -0.167, -0.167, -0.167, -0.167,\n",
       "        -0.167],\n",
       "       [-0.   ,  2.   , -0.   , -0.   , -0.   , -0.   , -0.   , -0.   , -0.   , -0.   , -0.   , -0.   , -0.167, -0.167, -0.167, -0.167, -0.167, -0.167, -0.167, -0.167, -0.167, -0.167, -0.167,\n",
       "        -0.167],\n",
       "       [-0.   , -0.   ,  2.   , -0.   , -0.   , -0.   , -0.   , -0.   , -0.   , -0.   , -0.   , -0.   , -0.167, -0.167, -0.167, -0.167, -0.167, -0.167, -0.167, -0.167, -0.167, -0.167, -0.167,\n",
       "        -0.167],\n",
       "       [-0.   , -0.   , -0.   ,  2.   , -0.   , -0.   , -0.   , -0.   , -0.   , -0.   , -0.   , -0.   , -0.167, -0.167, -0.167, -0.167, -0.167, -0.167, -0.167, -0.167, -0.167, -0.167, -0.167,\n",
       "        -0.167],\n",
       "       [-0.   , -0.   , -0.   , -0.   ,  2.   , -0.   , -0.   , -0.   , -0.   , -0.   , -0.   , -0.   , -0.167, -0.167, -0.167, -0.167, -0.167, -0.167, -0.167, -0.167, -0.167, -0.167, -0.167,\n",
       "        -0.167],\n",
       "       [-0.   , -0.   , -0.   , -0.   , -0.   ,  2.   , -0.   , -0.   , -0.   , -0.   , -0.   , -0.   , -0.167, -0.167, -0.167, -0.167, -0.167, -0.167, -0.167, -0.167, -0.167, -0.167, -0.167,\n",
       "        -0.167],\n",
       "       [-0.   , -0.   , -0.   , -0.   , -0.   , -0.   ,  2.   , -0.   , -0.   , -0.   , -0.   , -0.   , -0.167, -0.167, -0.167, -0.167, -0.167, -0.167, -0.167, -0.167, -0.167, -0.167, -0.167,\n",
       "        -0.167],\n",
       "       [-0.   , -0.   , -0.   , -0.   , -0.   , -0.   , -0.   ,  2.   , -0.   , -0.   , -0.   , -0.   , -0.167, -0.167, -0.167, -0.167, -0.167, -0.167, -0.167, -0.167, -0.167, -0.167, -0.167,\n",
       "        -0.167],\n",
       "       [-0.   , -0.   , -0.   , -0.   , -0.   , -0.   , -0.   , -0.   ,  2.   , -0.   , -0.   , -0.   , -0.167, -0.167, -0.167, -0.167, -0.167, -0.167, -0.167, -0.167, -0.167, -0.167, -0.167,\n",
       "        -0.167],\n",
       "       [-0.   , -0.   , -0.   , -0.   , -0.   , -0.   , -0.   , -0.   , -0.   ,  2.   , -0.   , -0.   , -0.167, -0.167, -0.167, -0.167, -0.167, -0.167, -0.167, -0.167, -0.167, -0.167, -0.167,\n",
       "        -0.167],\n",
       "       [-0.   , -0.   , -0.   , -0.   , -0.   , -0.   , -0.   , -0.   , -0.   , -0.   ,  2.   , -0.   , -0.167, -0.167, -0.167, -0.167, -0.167, -0.167, -0.167, -0.167, -0.167, -0.167, -0.167,\n",
       "        -0.167],\n",
       "       [-0.   , -0.   , -0.   , -0.   , -0.   , -0.   , -0.   , -0.   , -0.   , -0.   , -0.   ,  2.   , -0.167, -0.167, -0.167, -0.167, -0.167, -0.167, -0.167, -0.167, -0.167, -0.167, -0.167,\n",
       "        -0.167],\n",
       "       [-0.167, -0.167, -0.167, -0.167, -0.167, -0.167, -0.167, -0.167, -0.167, -0.167, -0.167, -0.167,  2.   , -0.   , -0.   , -0.   , -0.   , -0.   , -0.   , -0.   , -0.   , -0.   , -0.   ,\n",
       "        -0.   ],\n",
       "       [-0.167, -0.167, -0.167, -0.167, -0.167, -0.167, -0.167, -0.167, -0.167, -0.167, -0.167, -0.167, -0.   ,  2.   , -0.   , -0.   , -0.   , -0.   , -0.   , -0.   , -0.   , -0.   , -0.   ,\n",
       "        -0.   ],\n",
       "       [-0.167, -0.167, -0.167, -0.167, -0.167, -0.167, -0.167, -0.167, -0.167, -0.167, -0.167, -0.167, -0.   , -0.   ,  2.   , -0.   , -0.   , -0.   , -0.   , -0.   , -0.   , -0.   , -0.   ,\n",
       "        -0.   ],\n",
       "       [-0.167, -0.167, -0.167, -0.167, -0.167, -0.167, -0.167, -0.167, -0.167, -0.167, -0.167, -0.167, -0.   , -0.   , -0.   ,  2.   , -0.   , -0.   , -0.   , -0.   , -0.   , -0.   , -0.   ,\n",
       "        -0.   ],\n",
       "       [-0.167, -0.167, -0.167, -0.167, -0.167, -0.167, -0.167, -0.167, -0.167, -0.167, -0.167, -0.167, -0.   , -0.   , -0.   , -0.   ,  2.   , -0.   , -0.   , -0.   , -0.   , -0.   , -0.   ,\n",
       "        -0.   ],\n",
       "       [-0.167, -0.167, -0.167, -0.167, -0.167, -0.167, -0.167, -0.167, -0.167, -0.167, -0.167, -0.167, -0.   , -0.   , -0.   , -0.   , -0.   ,  2.   , -0.   , -0.   , -0.   , -0.   , -0.   ,\n",
       "        -0.   ],\n",
       "       [-0.167, -0.167, -0.167, -0.167, -0.167, -0.167, -0.167, -0.167, -0.167, -0.167, -0.167, -0.167, -0.   , -0.   , -0.   , -0.   , -0.   , -0.   ,  2.   , -0.   , -0.   , -0.   , -0.   ,\n",
       "        -0.   ],\n",
       "       [-0.167, -0.167, -0.167, -0.167, -0.167, -0.167, -0.167, -0.167, -0.167, -0.167, -0.167, -0.167, -0.   , -0.   , -0.   , -0.   , -0.   , -0.   , -0.   ,  2.   , -0.   , -0.   , -0.   ,\n",
       "        -0.   ],\n",
       "       [-0.167, -0.167, -0.167, -0.167, -0.167, -0.167, -0.167, -0.167, -0.167, -0.167, -0.167, -0.167, -0.   , -0.   , -0.   , -0.   , -0.   , -0.   , -0.   , -0.   ,  2.   , -0.   , -0.   ,\n",
       "        -0.   ],\n",
       "       [-0.167, -0.167, -0.167, -0.167, -0.167, -0.167, -0.167, -0.167, -0.167, -0.167, -0.167, -0.167, -0.   , -0.   , -0.   , -0.   , -0.   , -0.   , -0.   , -0.   , -0.   ,  2.   , -0.   ,\n",
       "        -0.   ],\n",
       "       [-0.167, -0.167, -0.167, -0.167, -0.167, -0.167, -0.167, -0.167, -0.167, -0.167, -0.167, -0.167, -0.   , -0.   , -0.   , -0.   , -0.   , -0.   , -0.   , -0.   , -0.   , -0.   ,  2.   ,\n",
       "        -0.   ],\n",
       "       [-0.167, -0.167, -0.167, -0.167, -0.167, -0.167, -0.167, -0.167, -0.167, -0.167, -0.167, -0.167, -0.   , -0.   , -0.   , -0.   , -0.   , -0.   , -0.   , -0.   , -0.   , -0.   , -0.   ,\n",
       "         2.   ]])"
      ]
     },
     "execution_count": 17,
     "metadata": {},
     "output_type": "execute_result"
    }
   ],
   "source": [
    "W"
   ]
  },
  {
   "cell_type": "code",
   "execution_count": 2,
   "metadata": {},
   "outputs": [
    {
     "data": {
      "application/vnd.plotly.v1+json": {
       "config": {
        "plotlyServerURL": "https://plot.ly"
       },
       "data": [
        {
         "alignmentgroup": "True",
         "base": [
          0,
          1.9999999999993794,
          4.999999999998954
         ],
         "hovertemplate": "Task=Iter 1<br>Start=%{base}<br>Finish=%{x}<br>Resource=%{y}<extra></extra>",
         "legendgroup": "Iter 1",
         "marker": {
          "color": "#636efa",
          "pattern": {
           "shape": ""
          }
         },
         "name": "Iter 1",
         "offsetgroup": "Iter 1",
         "orientation": "h",
         "showlegend": true,
         "textposition": "auto",
         "type": "bar",
         "x": [
          1,
          1.9999999999999998,
          3
         ],
         "xaxis": "x",
         "y": [
          "Node 1",
          "Node 2",
          "Node 3"
         ],
         "yaxis": "y"
        },
        {
         "alignmentgroup": "True",
         "base": [
          5.000000000000036,
          8.999999999998293,
          11.99999999999793
         ],
         "hovertemplate": "Task=Iter 2<br>Start=%{base}<br>Finish=%{x}<br>Resource=%{y}<extra></extra>",
         "legendgroup": "Iter 2",
         "marker": {
          "color": "#EF553B",
          "pattern": {
           "shape": ""
          }
         },
         "name": "Iter 2",
         "offsetgroup": "Iter 2",
         "orientation": "h",
         "showlegend": true,
         "textposition": "auto",
         "type": "bar",
         "x": [
          1,
          2,
          3
         ],
         "xaxis": "x",
         "y": [
          "Node 1",
          "Node 2",
          "Node 3"
         ],
         "yaxis": "y"
        },
        {
         "alignmentgroup": "True",
         "base": [
          11.999999999998433,
          15.99999999999712,
          18.99999999999676
         ],
         "hovertemplate": "Task=Iter 3<br>Start=%{base}<br>Finish=%{x}<br>Resource=%{y}<extra></extra>",
         "legendgroup": "Iter 3",
         "marker": {
          "color": "#00cc96",
          "pattern": {
           "shape": ""
          }
         },
         "name": "Iter 3",
         "offsetgroup": "Iter 3",
         "orientation": "h",
         "showlegend": true,
         "textposition": "auto",
         "type": "bar",
         "x": [
          1,
          2.0000000000000018,
          3
         ],
         "xaxis": "x",
         "y": [
          "Node 1",
          "Node 2",
          "Node 3"
         ],
         "yaxis": "y"
        },
        {
         "alignmentgroup": "True",
         "base": [
          18.99999999999728,
          22.99999999999585,
          25.9999999999955
         ],
         "hovertemplate": "Task=Iter 4<br>Start=%{base}<br>Finish=%{x}<br>Resource=%{y}<extra></extra>",
         "legendgroup": "Iter 4",
         "marker": {
          "color": "#ab63fa",
          "pattern": {
           "shape": ""
          }
         },
         "name": "Iter 4",
         "offsetgroup": "Iter 4",
         "orientation": "h",
         "showlegend": true,
         "textposition": "auto",
         "type": "bar",
         "x": [
          1,
          2,
          3
         ],
         "xaxis": "x",
         "y": [
          "Node 1",
          "Node 2",
          "Node 3"
         ],
         "yaxis": "y"
        },
        {
         "alignmentgroup": "True",
         "base": [
          25.999999999995428,
          29.999999999994582,
          32.999999999994195
         ],
         "hovertemplate": "Task=Iter 5<br>Start=%{base}<br>Finish=%{x}<br>Resource=%{y}<extra></extra>",
         "legendgroup": "Iter 5",
         "marker": {
          "color": "#FFA15A",
          "pattern": {
           "shape": ""
          }
         },
         "name": "Iter 5",
         "offsetgroup": "Iter 5",
         "orientation": "h",
         "showlegend": true,
         "textposition": "auto",
         "type": "bar",
         "x": [
          1,
          2,
          3
         ],
         "xaxis": "x",
         "y": [
          "Node 1",
          "Node 2",
          "Node 3"
         ],
         "yaxis": "y"
        },
        {
         "alignmentgroup": "True",
         "base": [
          32.99999999999402,
          36.99999999999351,
          39.99999999999317
         ],
         "hovertemplate": "Task=Iter 6<br>Start=%{base}<br>Finish=%{x}<br>Resource=%{y}<extra></extra>",
         "legendgroup": "Iter 6",
         "marker": {
          "color": "#19d3f3",
          "pattern": {
           "shape": ""
          }
         },
         "name": "Iter 6",
         "offsetgroup": "Iter 6",
         "orientation": "h",
         "showlegend": true,
         "textposition": "auto",
         "type": "bar",
         "x": [
          1,
          2,
          3
         ],
         "xaxis": "x",
         "y": [
          "Node 1",
          "Node 2",
          "Node 3"
         ],
         "yaxis": "y"
        }
       ],
       "layout": {
        "barmode": "overlay",
        "legend": {
         "title": {
          "text": "Task"
         },
         "tracegroupgap": 0
        },
        "margin": {
         "t": 60
        },
        "template": {
         "data": {
          "bar": [
           {
            "error_x": {
             "color": "#2a3f5f"
            },
            "error_y": {
             "color": "#2a3f5f"
            },
            "marker": {
             "line": {
              "color": "#E5ECF6",
              "width": 0.5
             },
             "pattern": {
              "fillmode": "overlay",
              "size": 10,
              "solidity": 0.2
             }
            },
            "type": "bar"
           }
          ],
          "barpolar": [
           {
            "marker": {
             "line": {
              "color": "#E5ECF6",
              "width": 0.5
             },
             "pattern": {
              "fillmode": "overlay",
              "size": 10,
              "solidity": 0.2
             }
            },
            "type": "barpolar"
           }
          ],
          "carpet": [
           {
            "aaxis": {
             "endlinecolor": "#2a3f5f",
             "gridcolor": "white",
             "linecolor": "white",
             "minorgridcolor": "white",
             "startlinecolor": "#2a3f5f"
            },
            "baxis": {
             "endlinecolor": "#2a3f5f",
             "gridcolor": "white",
             "linecolor": "white",
             "minorgridcolor": "white",
             "startlinecolor": "#2a3f5f"
            },
            "type": "carpet"
           }
          ],
          "choropleth": [
           {
            "colorbar": {
             "outlinewidth": 0,
             "ticks": ""
            },
            "type": "choropleth"
           }
          ],
          "contour": [
           {
            "colorbar": {
             "outlinewidth": 0,
             "ticks": ""
            },
            "colorscale": [
             [
              0,
              "#0d0887"
             ],
             [
              0.1111111111111111,
              "#46039f"
             ],
             [
              0.2222222222222222,
              "#7201a8"
             ],
             [
              0.3333333333333333,
              "#9c179e"
             ],
             [
              0.4444444444444444,
              "#bd3786"
             ],
             [
              0.5555555555555556,
              "#d8576b"
             ],
             [
              0.6666666666666666,
              "#ed7953"
             ],
             [
              0.7777777777777778,
              "#fb9f3a"
             ],
             [
              0.8888888888888888,
              "#fdca26"
             ],
             [
              1,
              "#f0f921"
             ]
            ],
            "type": "contour"
           }
          ],
          "contourcarpet": [
           {
            "colorbar": {
             "outlinewidth": 0,
             "ticks": ""
            },
            "type": "contourcarpet"
           }
          ],
          "heatmap": [
           {
            "colorbar": {
             "outlinewidth": 0,
             "ticks": ""
            },
            "colorscale": [
             [
              0,
              "#0d0887"
             ],
             [
              0.1111111111111111,
              "#46039f"
             ],
             [
              0.2222222222222222,
              "#7201a8"
             ],
             [
              0.3333333333333333,
              "#9c179e"
             ],
             [
              0.4444444444444444,
              "#bd3786"
             ],
             [
              0.5555555555555556,
              "#d8576b"
             ],
             [
              0.6666666666666666,
              "#ed7953"
             ],
             [
              0.7777777777777778,
              "#fb9f3a"
             ],
             [
              0.8888888888888888,
              "#fdca26"
             ],
             [
              1,
              "#f0f921"
             ]
            ],
            "type": "heatmap"
           }
          ],
          "heatmapgl": [
           {
            "colorbar": {
             "outlinewidth": 0,
             "ticks": ""
            },
            "colorscale": [
             [
              0,
              "#0d0887"
             ],
             [
              0.1111111111111111,
              "#46039f"
             ],
             [
              0.2222222222222222,
              "#7201a8"
             ],
             [
              0.3333333333333333,
              "#9c179e"
             ],
             [
              0.4444444444444444,
              "#bd3786"
             ],
             [
              0.5555555555555556,
              "#d8576b"
             ],
             [
              0.6666666666666666,
              "#ed7953"
             ],
             [
              0.7777777777777778,
              "#fb9f3a"
             ],
             [
              0.8888888888888888,
              "#fdca26"
             ],
             [
              1,
              "#f0f921"
             ]
            ],
            "type": "heatmapgl"
           }
          ],
          "histogram": [
           {
            "marker": {
             "pattern": {
              "fillmode": "overlay",
              "size": 10,
              "solidity": 0.2
             }
            },
            "type": "histogram"
           }
          ],
          "histogram2d": [
           {
            "colorbar": {
             "outlinewidth": 0,
             "ticks": ""
            },
            "colorscale": [
             [
              0,
              "#0d0887"
             ],
             [
              0.1111111111111111,
              "#46039f"
             ],
             [
              0.2222222222222222,
              "#7201a8"
             ],
             [
              0.3333333333333333,
              "#9c179e"
             ],
             [
              0.4444444444444444,
              "#bd3786"
             ],
             [
              0.5555555555555556,
              "#d8576b"
             ],
             [
              0.6666666666666666,
              "#ed7953"
             ],
             [
              0.7777777777777778,
              "#fb9f3a"
             ],
             [
              0.8888888888888888,
              "#fdca26"
             ],
             [
              1,
              "#f0f921"
             ]
            ],
            "type": "histogram2d"
           }
          ],
          "histogram2dcontour": [
           {
            "colorbar": {
             "outlinewidth": 0,
             "ticks": ""
            },
            "colorscale": [
             [
              0,
              "#0d0887"
             ],
             [
              0.1111111111111111,
              "#46039f"
             ],
             [
              0.2222222222222222,
              "#7201a8"
             ],
             [
              0.3333333333333333,
              "#9c179e"
             ],
             [
              0.4444444444444444,
              "#bd3786"
             ],
             [
              0.5555555555555556,
              "#d8576b"
             ],
             [
              0.6666666666666666,
              "#ed7953"
             ],
             [
              0.7777777777777778,
              "#fb9f3a"
             ],
             [
              0.8888888888888888,
              "#fdca26"
             ],
             [
              1,
              "#f0f921"
             ]
            ],
            "type": "histogram2dcontour"
           }
          ],
          "mesh3d": [
           {
            "colorbar": {
             "outlinewidth": 0,
             "ticks": ""
            },
            "type": "mesh3d"
           }
          ],
          "parcoords": [
           {
            "line": {
             "colorbar": {
              "outlinewidth": 0,
              "ticks": ""
             }
            },
            "type": "parcoords"
           }
          ],
          "pie": [
           {
            "automargin": true,
            "type": "pie"
           }
          ],
          "scatter": [
           {
            "fillpattern": {
             "fillmode": "overlay",
             "size": 10,
             "solidity": 0.2
            },
            "type": "scatter"
           }
          ],
          "scatter3d": [
           {
            "line": {
             "colorbar": {
              "outlinewidth": 0,
              "ticks": ""
             }
            },
            "marker": {
             "colorbar": {
              "outlinewidth": 0,
              "ticks": ""
             }
            },
            "type": "scatter3d"
           }
          ],
          "scattercarpet": [
           {
            "marker": {
             "colorbar": {
              "outlinewidth": 0,
              "ticks": ""
             }
            },
            "type": "scattercarpet"
           }
          ],
          "scattergeo": [
           {
            "marker": {
             "colorbar": {
              "outlinewidth": 0,
              "ticks": ""
             }
            },
            "type": "scattergeo"
           }
          ],
          "scattergl": [
           {
            "marker": {
             "colorbar": {
              "outlinewidth": 0,
              "ticks": ""
             }
            },
            "type": "scattergl"
           }
          ],
          "scattermapbox": [
           {
            "marker": {
             "colorbar": {
              "outlinewidth": 0,
              "ticks": ""
             }
            },
            "type": "scattermapbox"
           }
          ],
          "scatterpolar": [
           {
            "marker": {
             "colorbar": {
              "outlinewidth": 0,
              "ticks": ""
             }
            },
            "type": "scatterpolar"
           }
          ],
          "scatterpolargl": [
           {
            "marker": {
             "colorbar": {
              "outlinewidth": 0,
              "ticks": ""
             }
            },
            "type": "scatterpolargl"
           }
          ],
          "scatterternary": [
           {
            "marker": {
             "colorbar": {
              "outlinewidth": 0,
              "ticks": ""
             }
            },
            "type": "scatterternary"
           }
          ],
          "surface": [
           {
            "colorbar": {
             "outlinewidth": 0,
             "ticks": ""
            },
            "colorscale": [
             [
              0,
              "#0d0887"
             ],
             [
              0.1111111111111111,
              "#46039f"
             ],
             [
              0.2222222222222222,
              "#7201a8"
             ],
             [
              0.3333333333333333,
              "#9c179e"
             ],
             [
              0.4444444444444444,
              "#bd3786"
             ],
             [
              0.5555555555555556,
              "#d8576b"
             ],
             [
              0.6666666666666666,
              "#ed7953"
             ],
             [
              0.7777777777777778,
              "#fb9f3a"
             ],
             [
              0.8888888888888888,
              "#fdca26"
             ],
             [
              1,
              "#f0f921"
             ]
            ],
            "type": "surface"
           }
          ],
          "table": [
           {
            "cells": {
             "fill": {
              "color": "#EBF0F8"
             },
             "line": {
              "color": "white"
             }
            },
            "header": {
             "fill": {
              "color": "#C8D4E3"
             },
             "line": {
              "color": "white"
             }
            },
            "type": "table"
           }
          ]
         },
         "layout": {
          "annotationdefaults": {
           "arrowcolor": "#2a3f5f",
           "arrowhead": 0,
           "arrowwidth": 1
          },
          "autotypenumbers": "strict",
          "coloraxis": {
           "colorbar": {
            "outlinewidth": 0,
            "ticks": ""
           }
          },
          "colorscale": {
           "diverging": [
            [
             0,
             "#8e0152"
            ],
            [
             0.1,
             "#c51b7d"
            ],
            [
             0.2,
             "#de77ae"
            ],
            [
             0.3,
             "#f1b6da"
            ],
            [
             0.4,
             "#fde0ef"
            ],
            [
             0.5,
             "#f7f7f7"
            ],
            [
             0.6,
             "#e6f5d0"
            ],
            [
             0.7,
             "#b8e186"
            ],
            [
             0.8,
             "#7fbc41"
            ],
            [
             0.9,
             "#4d9221"
            ],
            [
             1,
             "#276419"
            ]
           ],
           "sequential": [
            [
             0,
             "#0d0887"
            ],
            [
             0.1111111111111111,
             "#46039f"
            ],
            [
             0.2222222222222222,
             "#7201a8"
            ],
            [
             0.3333333333333333,
             "#9c179e"
            ],
            [
             0.4444444444444444,
             "#bd3786"
            ],
            [
             0.5555555555555556,
             "#d8576b"
            ],
            [
             0.6666666666666666,
             "#ed7953"
            ],
            [
             0.7777777777777778,
             "#fb9f3a"
            ],
            [
             0.8888888888888888,
             "#fdca26"
            ],
            [
             1,
             "#f0f921"
            ]
           ],
           "sequentialminus": [
            [
             0,
             "#0d0887"
            ],
            [
             0.1111111111111111,
             "#46039f"
            ],
            [
             0.2222222222222222,
             "#7201a8"
            ],
            [
             0.3333333333333333,
             "#9c179e"
            ],
            [
             0.4444444444444444,
             "#bd3786"
            ],
            [
             0.5555555555555556,
             "#d8576b"
            ],
            [
             0.6666666666666666,
             "#ed7953"
            ],
            [
             0.7777777777777778,
             "#fb9f3a"
            ],
            [
             0.8888888888888888,
             "#fdca26"
            ],
            [
             1,
             "#f0f921"
            ]
           ]
          },
          "colorway": [
           "#636efa",
           "#EF553B",
           "#00cc96",
           "#ab63fa",
           "#FFA15A",
           "#19d3f3",
           "#FF6692",
           "#B6E880",
           "#FF97FF",
           "#FECB52"
          ],
          "font": {
           "color": "#2a3f5f"
          },
          "geo": {
           "bgcolor": "white",
           "lakecolor": "white",
           "landcolor": "#E5ECF6",
           "showlakes": true,
           "showland": true,
           "subunitcolor": "white"
          },
          "hoverlabel": {
           "align": "left"
          },
          "hovermode": "closest",
          "mapbox": {
           "style": "light"
          },
          "paper_bgcolor": "white",
          "plot_bgcolor": "#E5ECF6",
          "polar": {
           "angularaxis": {
            "gridcolor": "white",
            "linecolor": "white",
            "ticks": ""
           },
           "bgcolor": "#E5ECF6",
           "radialaxis": {
            "gridcolor": "white",
            "linecolor": "white",
            "ticks": ""
           }
          },
          "scene": {
           "xaxis": {
            "backgroundcolor": "#E5ECF6",
            "gridcolor": "white",
            "gridwidth": 2,
            "linecolor": "white",
            "showbackground": true,
            "ticks": "",
            "zerolinecolor": "white"
           },
           "yaxis": {
            "backgroundcolor": "#E5ECF6",
            "gridcolor": "white",
            "gridwidth": 2,
            "linecolor": "white",
            "showbackground": true,
            "ticks": "",
            "zerolinecolor": "white"
           },
           "zaxis": {
            "backgroundcolor": "#E5ECF6",
            "gridcolor": "white",
            "gridwidth": 2,
            "linecolor": "white",
            "showbackground": true,
            "ticks": "",
            "zerolinecolor": "white"
           }
          },
          "shapedefaults": {
           "line": {
            "color": "#2a3f5f"
           }
          },
          "ternary": {
           "aaxis": {
            "gridcolor": "white",
            "linecolor": "white",
            "ticks": ""
           },
           "baxis": {
            "gridcolor": "white",
            "linecolor": "white",
            "ticks": ""
           },
           "bgcolor": "#E5ECF6",
           "caxis": {
            "gridcolor": "white",
            "linecolor": "white",
            "ticks": ""
           }
          },
          "title": {
           "x": 0.05
          },
          "xaxis": {
           "automargin": true,
           "gridcolor": "white",
           "linecolor": "white",
           "ticks": "",
           "title": {
            "standoff": 15
           },
           "zerolinecolor": "white",
           "zerolinewidth": 2
          },
          "yaxis": {
           "automargin": true,
           "gridcolor": "white",
           "linecolor": "white",
           "ticks": "",
           "title": {
            "standoff": 15
           },
           "zerolinecolor": "white",
           "zerolinewidth": 2
          }
         }
        },
        "title": {
         "text": "Example"
        },
        "xaxis": {
         "anchor": "y",
         "domain": [
          0,
          1
         ],
         "title": {
          "text": "Time Units"
         },
         "type": "linear"
        },
        "yaxis": {
         "anchor": "x",
         "autorange": "reversed",
         "domain": [
          0,
          1
         ],
         "title": {
          "text": "Resource"
         }
        }
       }
      }
     },
     "metadata": {},
     "output_type": "display_data"
    }
   ],
   "source": [
    "from oars.utils import *\n",
    "from oars.matrices import *\n",
    "import numpy as np\n",
    "t = [1, 2, 3]\n",
    "l = np.array([[0, 1, 2], [1,0,1], [2,1,0]])\n",
    "Z, W = getMT(3)\n",
    "fig = getGantt(t, l, Z, W)\n",
    "fig.show()"
   ]
  },
  {
   "cell_type": "code",
   "execution_count": 9,
   "metadata": {},
   "outputs": [
    {
     "name": "stdout",
     "output_type": "stream",
     "text": [
      "No operators provided, using default LipschitzStronglyMonotoneOperator\n",
      "Cycle: 10.999999999999147\n",
      "Tau: 0.8083945725558891\n",
      "Total Cycles: 44.0\n",
      "Total Time: 483.9999999999625\n"
     ]
    }
   ],
   "source": [
    "# getMetrics Example\n",
    "from oars.utils import getMetrics\n",
    "from oars.matrices import getBlockMin\n",
    "n = 4\n",
    "Z, W = getBlockMin(n, n//2)\n",
    "t = np.array([1, 2, 3, 4])\n",
    "l = np.array([[0,1,2,3], \n",
    "              [1,0,1,2], \n",
    "              [2,1,0,1], \n",
    "              [3,2,1,0]])\n",
    "ls = np.array([5, 4, 3, 2])\n",
    "mus = np.array([3, 2, 1, 0])\n",
    "contraction_target = 0.0001\n",
    "cycle, tau, total_cycles, total_time = getMetrics(Z, W, t, l, ls, mus, contraction_target)\n",
    "print('Cycle:', cycle)\n",
    "print('Tau:', tau)\n",
    "print('Total Cycles:', total_cycles)\n",
    "print('Total Time:', total_time)\n"
   ]
  },
  {
   "cell_type": "code",
   "execution_count": 11,
   "metadata": {},
   "outputs": [
    {
     "name": "stdout",
     "output_type": "stream",
     "text": [
      "[[ 2. -1. -1. -0.]\n",
      " [-1.  2. -0. -1.]\n",
      " [-1. -0.  2. -1.]\n",
      " [-0. -1. -1.  2.]]\n",
      "[[ 2. -1. -1.  0.]\n",
      " [-1.  2.  0. -1.]\n",
      " [-1.  0.  2. -1.]\n",
      " [ 0. -1. -1.  2.]]\n",
      "No operators provided, using default LipschitzStronglyMonotoneOperator\n",
      "Cycle: 9.99999999999865\n",
      "Tau: 0.8208356029559916\n",
      "Total Cycles: 47.0\n",
      "Total Time: 469.99999999993656\n"
     ]
    }
   ],
   "source": [
    "np.set_printoptions(precision=3, suppress=True, linewidth=200)\n",
    "from oars.matrices import getMinCycle, getMaxConnectivity\n",
    "Zmc, Wmc = getMinCycle(n, objective=getMaxConnectivity, t=t, l=l, minW=n//2)\n",
    "print(Zmc)\n",
    "print(Wmc)\n",
    "cycle, tau, total_cycles, total_time = getMetrics(Zmc, Wmc, t, l, ls, mus, contraction_target)\n",
    "print('Cycle:', cycle)\n",
    "print('Tau:', tau)\n",
    "print('Total Cycles:', total_cycles)\n",
    "print('Total Time:', total_time)"
   ]
  },
  {
   "cell_type": "code",
   "execution_count": 1,
   "metadata": {},
   "outputs": [
    {
     "ename": "NameError",
     "evalue": "name 'reload' is not defined",
     "output_type": "error",
     "traceback": [
      "\u001b[1;31m---------------------------------------------------------------------------\u001b[0m",
      "\u001b[1;31mNameError\u001b[0m                                 Traceback (most recent call last)",
      "Cell \u001b[1;32mIn[1], line 1\u001b[0m\n\u001b[1;32m----> 1\u001b[0m \u001b[43mreload\u001b[49m(algorithm_test)\n",
      "\u001b[1;31mNameError\u001b[0m: name 'reload' is not defined"
     ]
    }
   ],
   "source": [
    "reload(algorithm_test)"
   ]
  },
  {
   "cell_type": "code",
   "execution_count": 2,
   "metadata": {},
   "outputs": [],
   "source": [
    "algorithm_test.testSDP(parallel=True)\n"
   ]
  },
  {
   "cell_type": "code",
   "execution_count": 54,
   "metadata": {},
   "outputs": [
    {
     "name": "stdout",
     "output_type": "stream",
     "text": [
      "Converged in objective value, iteration 35356\n",
      "[[ 0.502 -0.022 -0.474  0.143  0.095 -0.053]\n",
      " [-0.022  0.029 -0.004  0.023  0.005  0.02 ]\n",
      " [-0.474 -0.004  0.469 -0.161 -0.098  0.034]\n",
      " [ 0.143  0.023 -0.161  0.072  0.037  0.003]\n",
      " [ 0.095  0.005 -0.098  0.037  0.021 -0.004]\n",
      " [-0.053  0.02   0.034  0.003 -0.004  0.017]]\n",
      "[[ 0.502 -0.022 -0.474  0.143  0.095 -0.053]\n",
      " [-0.022  0.029 -0.004  0.023  0.005  0.02 ]\n",
      " [-0.474 -0.004  0.469 -0.161 -0.098  0.034]\n",
      " [ 0.143  0.023 -0.161  0.072  0.037  0.003]\n",
      " [ 0.095  0.005 -0.098  0.037  0.021 -0.004]\n",
      " [-0.053  0.02   0.034  0.003 -0.004  0.017]]\n"
     ]
    }
   ],
   "source": [
    "from oars.matrices import getFull, getMT\n",
    "from oars.pep import getConstraintMatrices\n",
    "import proxs\n",
    "reload(proxs)\n",
    "from oars import solveMT\n",
    "n = 3\n",
    "Z, W = getMT(n)\n",
    "Ko, K1, Ki, Kp = getConstraintMatrices(Z, W, gamma=0.5)\n",
    "u = np.ones(2*n)\n",
    "u[n:] = 0\n",
    "# proxlist = [proxs.traceHalfspaceIndicator, proxs.traceEqualityIndicator, proxs.traceHalfspaceIndicator,]# for _ in Kp]\n",
    "# proxlist = []\n",
    "proxlist = [proxs.psdCone, proxs.traceEqualityIndicator, proxs.traceEqualityIndicator, proxs.linearSubdiff] + [proxs.traceHalfspaceIndicator for _ in Kp] #, linearSubdiff]\n",
    "data = [(2*n, 2*n), {'A':Ki, 'v':1}, {'A':K1, 'v':0}, -Ko] + Kp #, u, {'A':Ki, 'v':1}]#, -Ko]\n",
    "#data = [Kp[0], {'A':Ki, 'v':1}, Kp[1]]# + [u, (2*n, 2*n)]#, -Ko]\n",
    "dim = len(data)\n",
    "Wd, Zd = getBlockMin(dim, dim//2)\n",
    "from oars import solve\n",
    "x, results = solve(dim, data, proxlist, W=Wd, Z=Zd, itrs=100000, vartol=1e-4, gamma=0.8, checkperiod=10, verbose=False)\n",
    "# x, results = solveMT(dim, data, proxlist, itrs=10000, vartol=1e-6, gamma=0.8, checkperiod=10, verbose=False)\n",
    "oneprox = proxs.traceEqualityIndicator({'A':Ki, 'v':1})\n",
    "print(oneprox.prox(x))\n",
    "print(x)\n",
    "# print(x)\n",
    "# print(results)\n",
    "# print(np.trace(Ko @ x))\n"
   ]
  },
  {
   "cell_type": "code",
   "execution_count": 55,
   "metadata": {},
   "outputs": [
    {
     "data": {
      "text/plain": [
       "0.8806363180682683"
      ]
     },
     "execution_count": 55,
     "metadata": {},
     "output_type": "execute_result"
    }
   ],
   "source": [
    "np.trace(Ko @ x)"
   ]
  },
  {
   "cell_type": "code",
   "execution_count": 53,
   "metadata": {},
   "outputs": [
    {
     "name": "stdout",
     "output_type": "stream",
     "text": [
      "optimal\n",
      "0.8772093960780886\n",
      "[[ 0.497 -0.024 -0.473  0.142  0.092 -0.056]\n",
      " [-0.024  0.027 -0.003  0.021  0.004  0.019]\n",
      " [-0.473 -0.003  0.476 -0.163 -0.097  0.037]\n",
      " [ 0.142  0.021 -0.163  0.071  0.036  0.002]\n",
      " [ 0.092  0.004 -0.097  0.036  0.02  -0.005]\n",
      " [-0.056  0.019  0.037  0.002 -0.005  0.017]]\n",
      "1.057491839126227\n",
      "0.24253000172637015\n",
      "1.8391259270014304\n",
      "0.2831436413187557\n",
      "2.0488014245113737\n",
      "0.365486443518793\n",
      "0.877208753564782\n",
      "804.0745487528972\n",
      "0.8772093960780886\n"
     ]
    }
   ],
   "source": [
    "from oars.pep import getContractionFactor\n",
    "print(getContractionFactor(Z, W, verbose=True))"
   ]
  },
  {
   "cell_type": "code",
   "execution_count": 49,
   "metadata": {},
   "outputs": [
    {
     "name": "stdout",
     "output_type": "stream",
     "text": [
      "-1.726780265748351e-05\n",
      "0.0\n",
      "[-2.118  0.     0.    -0.    -0.     0.118]\n",
      "-5.286842805712899e-05\n",
      "-5.551115123125783e-17\n",
      "[-1.236 -0.     0.     0.     0.     3.236]\n",
      "-1.3989199108756234e-05\n",
      "0.0\n",
      "[-2.225 -0.     0.     0.    -0.     0.225]\n",
      "3.3899369720605255e-05\n",
      "3.3899369720605255e-05\n",
      "[-2.372 -0.    -0.     0.     0.     3.372]\n",
      "-0.00018755979739369655\n",
      "3.469446951953614e-18\n",
      "[-2.323 -0.     0.     0.     0.     0.323]\n",
      "-0.0003738813230230731\n",
      "1.3877787807814457e-17\n",
      "[-3.464 -0.    -0.    -0.     0.     3.464]\n",
      "[[ 0.508 -0.021 -0.478  0.146  0.101 -0.044]\n",
      " [-0.021  0.03  -0.012  0.028  0.007  0.022]\n",
      " [-0.478 -0.012  0.451 -0.158 -0.101  0.027]\n",
      " [ 0.146  0.028 -0.158  0.073  0.039  0.007]\n",
      " [ 0.101  0.007 -0.101  0.039  0.023 -0.002]\n",
      " [-0.044  0.022  0.027  0.007 -0.002  0.016]]\n",
      "[-0.012 -0.     0.     0.     0.081  1.032]\n",
      "[-0.001 -0.    -0.     0.     0.082  1.032]\n"
     ]
    }
   ],
   "source": [
    "for Kpi in Kp:\n",
    "    print(np.trace(Kpi @ x))\n",
    "    half = proxs.traceHalfspaceIndicator(Kpi)\n",
    "    y = half.prox(x)\n",
    "    print(np.trace(Kpi @ y))\n",
    "    print(np.linalg.eigvalsh(Kpi))\n",
    "\n",
    "cone = proxs.reducedCone(u)\n",
    "yy = cone.prox(x)\n",
    "print(yy)\n",
    "print(np.linalg.eigvalsh(yy))\n",
    "cone.getEigen(x)\n",
    "print(np.linalg.eigvalsh(x))\n",
    "# print(cone.prox(x))"
   ]
  },
  {
   "cell_type": "code",
   "execution_count": 25,
   "metadata": {},
   "outputs": [
    {
     "data": {
      "text/plain": [
       "EigResult(eigenvalues=array([ 1.864,  0.362, -0.   ,  0.355,  0.   ,  0.   ]), eigenvectors=array([[-0.566, -0.723, -0.396, -0.   ,  0.   ,  0.   ],\n",
       "       [-0.583,  0.358,  0.178, -0.707,  0.   ,  0.   ],\n",
       "       [-0.583,  0.358,  0.178,  0.707,  0.   ,  0.   ],\n",
       "       [-0.018, -0.469,  0.883, -0.   ,  0.   ,  0.   ],\n",
       "       [ 0.   ,  0.   ,  0.   ,  0.   ,  1.   ,  0.   ],\n",
       "       [ 0.   ,  0.   ,  0.   ,  0.   ,  0.   ,  1.   ]]))"
      ]
     },
     "execution_count": 25,
     "metadata": {},
     "output_type": "execute_result"
    }
   ],
   "source": [
    "# [[ 0.786  0.521  0.521  0.142  0.     0.   ]\n",
    "#  [ 0.521  0.857  0.502 -0.041  0.     0.   ]\n",
    "#  [ 0.521  0.502  0.857 -0.041  0.     0.   ]\n",
    "#  [ 0.142 -0.041 -0.041  0.08   0.     0.   ]\n",
    "#  [ 0.     0.     0.     0.     0.     0.   ]\n",
    "#  [ 0.     0.     0.     0.     0.     0.   ]]\n",
    "\n",
    "xx = np.array([[ 0.786,  0.521,  0.521,  0.142,  0.   ,  0.   ],\n",
    "    [ 0.521,  0.857,  0.502, -0.041,  0.   ,  0.   ],\n",
    "        [ 0.521,  0.502,  0.857, -0.041,  0.   ,  0.   ],\n",
    "        [ 0.142, -0.041, -0.041,  0.08 ,  0.   ,  0.   ],\n",
    "        [ 0.   ,  0.   ,  0.   ,  0.   ,  0.   ,  0.   ],\n",
    "        [ 0.   ,  0.   ,  0.   ,  0.   ,  0.   ,  0.   ]])\n",
    "\n",
    "np.linalg.eig(xx)"
   ]
  },
  {
   "cell_type": "code",
   "execution_count": null,
   "metadata": {},
   "outputs": [],
   "source": []
  },
  {
   "cell_type": "code",
   "execution_count": 21,
   "metadata": {},
   "outputs": [
    {
     "name": "stdout",
     "output_type": "stream",
     "text": [
      "[[0.333 0.    0.    0.    0.    0.   ]\n",
      " [0.    0.333 0.    0.    0.    0.   ]\n",
      " [0.    0.    0.333 0.    0.    0.   ]\n",
      " [0.    0.    0.    0.    0.    0.   ]\n",
      " [0.    0.    0.    0.    0.    0.   ]\n",
      " [0.    0.    0.    0.    0.    0.   ]]\n"
     ]
    }
   ],
   "source": [
    "traceeq = traceEqualityIndicator({'A':Ki, 'v':1})\n",
    "print(traceeq.U)"
   ]
  },
  {
   "cell_type": "code",
   "execution_count": 15,
   "metadata": {},
   "outputs": [
    {
     "data": {
      "text/plain": [
       "array([[ 1.  ,  0.  ,  0.  , -1.  ,  0.5 ,  0.5 ],\n",
       "       [ 0.  ,  1.  ,  0.  ,  0.5 , -1.  ,  0.5 ],\n",
       "       [ 0.  ,  0.  ,  1.  ,  0.5 ,  0.5 , -1.  ],\n",
       "       [-1.  ,  0.5 ,  0.5 ,  1.5 , -0.75, -0.75],\n",
       "       [ 0.5 , -1.  ,  0.5 , -0.75,  1.5 , -0.75],\n",
       "       [ 0.5 ,  0.5 , -1.  , -0.75, -0.75,  1.5 ]])"
      ]
     },
     "execution_count": 15,
     "metadata": {},
     "output_type": "execute_result"
    }
   ],
   "source": [
    "W@W"
   ]
  },
  {
   "cell_type": "code",
   "execution_count": 16,
   "metadata": {},
   "outputs": [
    {
     "data": {
      "text/plain": [
       "array([[ 6., -3., -3.],\n",
       "       [-3.,  6., -3.],\n",
       "       [-3., -3.,  6.]])"
      ]
     },
     "execution_count": 16,
     "metadata": {},
     "output_type": "execute_result"
    }
   ],
   "source": [
    "W@W"
   ]
  },
  {
   "cell_type": "code",
   "execution_count": 19,
   "metadata": {},
   "outputs": [
    {
     "data": {
      "text/plain": [
       "array([[1., 1., 1., 0., 0., 0.],\n",
       "       [1., 1., 1., 0., 0., 0.],\n",
       "       [1., 1., 1., 0., 0., 0.],\n",
       "       [0., 0., 0., 0., 0., 0.],\n",
       "       [0., 0., 0., 0., 0., 0.],\n",
       "       [0., 0., 0., 0., 0., 0.]])"
      ]
     },
     "execution_count": 19,
     "metadata": {},
     "output_type": "execute_result"
    }
   ],
   "source": [
    "y = oneprox.prox(x)\n",
    "np.trace(Ki @ y)\n",
    "Ki"
   ]
  },
  {
   "cell_type": "code",
   "execution_count": 9,
   "metadata": {},
   "outputs": [
    {
     "name": "stdout",
     "output_type": "stream",
     "text": [
      "0.006233800027985126\n"
     ]
    }
   ],
   "source": [
    "import proxs\n",
    "import timeit\n",
    "X = np.random.randn(10, 10)\n",
    "\n",
    "# Make symmetric A\n",
    "A = X + X.T\n",
    "\n",
    "aprox = proxs.traceHalfspaceIndicator(A)\n",
    "A.shape[0]\n",
    "# print(aprox.scale(A))\n",
    "# print(aprox.other_scale(A))\n",
    "# np.allclose(aprox.scale(A), aprox.other_scale(A))\n",
    "# # Compare the times for scale and otherscale\n",
    "print(timeit.timeit('aprox.scale(A)', number=1000, globals=globals()))\n",
    "\n",
    "# timeit.timeit('aprox.other_scale(A)', number=1000, globals=globals())\n",
    "# q = 0\n",
    "# for i in range(A.shape[0]):\n",
    "#     for j in range(i):\n",
    "#         q += 2*A[i,j]**2\n",
    "#     q += A[i,i]**2\n",
    "\n",
    "# print(q)\n",
    "# print(np.linalg.norm(A, 'fro')**2)"
   ]
  },
  {
   "cell_type": "code",
   "execution_count": 13,
   "metadata": {},
   "outputs": [
    {
     "data": {
      "text/plain": [
       "<module 'proxs' from 'c:\\\\Users\\\\peter\\\\OneDrive\\\\Documents\\\\code\\\\oars\\\\tests\\\\proxs.py'>"
      ]
     },
     "execution_count": 13,
     "metadata": {},
     "output_type": "execute_result"
    }
   ],
   "source": [
    "reload(proxs)"
   ]
  },
  {
   "cell_type": "code",
   "execution_count": 13,
   "metadata": {},
   "outputs": [
    {
     "data": {
      "text/plain": [
       "350.94063175498553"
      ]
     },
     "execution_count": 13,
     "metadata": {},
     "output_type": "execute_result"
    }
   ],
   "source": [
    "Y = 2*A + np.eye(A.shape[0])\n",
    "np.trace(A@Y)"
   ]
  },
  {
   "cell_type": "code",
   "execution_count": 14,
   "metadata": {},
   "outputs": [
    {
     "name": "stdout",
     "output_type": "stream",
     "text": [
      "1.0000000000000016\n"
     ]
    }
   ],
   "source": [
    "aprox = proxs.traceEqualityIndicator({'A':A, 'v':1})\n",
    "Yp = aprox.prox(A, 1)\n",
    "print(np.trace(A@Yp))"
   ]
  },
  {
   "cell_type": "code",
   "execution_count": 5,
   "metadata": {},
   "outputs": [
    {
     "data": {
      "text/plain": [
       "255.65986269415086"
      ]
     },
     "execution_count": 5,
     "metadata": {},
     "output_type": "execute_result"
    }
   ],
   "source": [
    "np.linalg.norm(A, 'fro')**2"
   ]
  },
  {
   "cell_type": "code",
   "execution_count": 2,
   "metadata": {},
   "outputs": [
    {
     "name": "stdout",
     "output_type": "stream",
     "text": [
      "[[ 2.43588727 -1.09730184 -0.25396727 -1.08461816]\n",
      " [-1.09730184  3.237486   -1.4169987  -0.72318545]\n",
      " [-0.25396727 -1.4169987   3.79612127 -2.1251553 ]\n",
      " [-1.08461816 -0.72318545 -2.1251553   3.93295892]]\n",
      "0.14316698043646195\n",
      "0.8993338570188733\n",
      "[[ 2.43588727 -1.09730184 -0.25396727 -1.08461816]\n",
      " [-1.09730184  3.237486   -1.4169987  -0.72318545]\n",
      " [-0.25396727 -1.4169987   3.79612127 -2.1251553 ]\n",
      " [-1.08461816 -0.72318545 -2.1251553   3.93295892]]\n",
      "0.14316698043646195\n"
     ]
    }
   ],
   "source": [
    "n=4\n",
    "Z, W = getMT(n)\n",
    "L = - np.tril(Z, -1)\n",
    "ls = np.ones(n)*2\n",
    "ls = np.cumsum(ls)\n",
    "mus = np.ones(n)\n",
    "mus = np.cumsum(mus)\n",
    "operators = [oars.pep.SmoothStronglyConvexFunction(L=ls[i], mu=mus[i]) for i in range(n)]\n",
    "tau = oars.pep.getContractionFactor(Z, W, None, None, operators=operators, alpha=1, gamma=0.5)\n",
    "W, tau_opt = oars.pep.getOptimalW(Z, operators=operators)\n",
    "Wo, tauo = oars.pep.getSubdiffW(L, ls=ls, mus=mus)\n",
    "print(W)\n",
    "print(tau_opt)\n",
    "print(tau)\n",
    "print(Wo)\n",
    "print(tauo)"
   ]
  },
  {
   "cell_type": "code",
   "execution_count": 2,
   "metadata": {},
   "outputs": [
    {
     "name": "stdout",
     "output_type": "stream",
     "text": [
      "[[ 2.10883221 -1.011507   -0.3138347  -0.7834905 ]\n",
      " [-1.011507    2.97677056 -1.18071865 -0.7845449 ]\n",
      " [-0.3138347  -1.18071865  3.00502589 -1.51047254]\n",
      " [-0.7834905  -0.7845449  -1.51047254  3.07850794]]\n",
      "0.6562344018316276\n",
      "0.9924137484022097\n",
      "[[ 2.43588727 -1.09730184 -0.25396727 -1.08461816]\n",
      " [-1.09730184  3.237486   -1.4169987  -0.72318545]\n",
      " [-0.25396727 -1.4169987   3.79612127 -2.1251553 ]\n",
      " [-1.08461816 -0.72318545 -2.1251553   3.93295892]]\n",
      "0.14316698043646195\n"
     ]
    }
   ],
   "source": [
    "n=4\n",
    "Z, W = getMT(n)\n",
    "L = - np.tril(Z, -1)\n",
    "ls = np.ones(n)*2\n",
    "ls = np.cumsum(ls)\n",
    "mus = np.ones(n)\n",
    "mus = np.cumsum(mus)\n",
    "operators = [oars.pep.LipschitzStronglyMonotoneOperator(L=ls[i], mu=mus[i]) for i in range(n)]\n",
    "tau = oars.pep.getContractionFactor(Z, W, None, None, operators=operators, alpha=1, gamma=0.5)\n",
    "W, tau_opt = oars.pep.getOptimalW(Z, operators=operators)\n",
    "Wo, tauo = oars.pep.getSubdiffW(L, ls=ls, mus=mus)\n",
    "print(W)\n",
    "print(tau_opt)\n",
    "print(tau)\n",
    "print(Wo)\n",
    "print(tauo)"
   ]
  },
  {
   "cell_type": "code",
   "execution_count": 2,
   "metadata": {},
   "outputs": [
    {
     "name": "stdout",
     "output_type": "stream",
     "text": [
      "[[ 6.98255568e-09 -6.92177773e-09  3.66397885e-11  3.66397881e-11]\n",
      " [-6.92177773e-09  7.39331880e-09 -1.95265932e-10 -1.95265931e-10]\n",
      " [ 3.66397885e-11 -1.95265932e-10  1.85725841e-11  1.85725869e-11]\n",
      " [ 3.66397881e-11 -1.95265931e-10  1.85725869e-11  1.85725855e-11]]\n",
      "1.0000000006201917\n"
     ]
    }
   ],
   "source": [
    "n = 4\n",
    "Z, W = getMT(n)\n",
    "L = -np.tril(Z, -1)\n",
    "ls = np.ones(n)*2\n",
    "mus = np.ones(n)\n",
    "Wopt, tau = oars.pep.getOptimalW(Z, ls=ls, mus=mus)\n",
    "print(Wopt)\n",
    "print(tau)"
   ]
  },
  {
   "cell_type": "code",
   "execution_count": 4,
   "metadata": {},
   "outputs": [
    {
     "data": {
      "text/plain": [
       "<module 'oars.pep' from 'C:\\\\Users\\\\peter\\\\OneDrive\\\\Documents\\\\code\\\\oars\\\\oars\\\\pep\\\\__init__.py'>"
      ]
     },
     "execution_count": 4,
     "metadata": {},
     "output_type": "execute_result"
    }
   ],
   "source": [
    "reload(oars.pep)"
   ]
  },
  {
   "cell_type": "code",
   "execution_count": 4,
   "metadata": {},
   "outputs": [
    {
     "data": {
      "text/plain": [
       "array([[ 1.,  0.,  0., -1.,  1., -0.],\n",
       "       [ 0.,  1.,  0.,  1., -2.,  1.],\n",
       "       [ 0.,  0.,  1., -0.,  1., -1.],\n",
       "       [-1.,  1., -0.,  2., -3.,  1.],\n",
       "       [ 1., -2.,  1., -3.,  6., -3.],\n",
       "       [-0.,  1., -1.,  1., -3.,  2.]])"
      ]
     },
     "execution_count": 4,
     "metadata": {},
     "output_type": "execute_result"
    }
   ],
   "source": [
    "n = 3\n",
    "Z, W = getMT(n)\n",
    "M = getIncidence(W)\n",
    "\n",
    "Ko, K1, Ki, Kp = getConstraintMatrices(Z, W)\n",
    "Ko"
   ]
  },
  {
   "cell_type": "code",
   "execution_count": 5,
   "metadata": {},
   "outputs": [
    {
     "data": {
      "text/plain": [
       "array([[1., 1., 1., 0., 0., 0.],\n",
       "       [1., 1., 1., 0., 0., 0.],\n",
       "       [1., 1., 1., 0., 0., 0.],\n",
       "       [0., 0., 0., 0., 0., 0.],\n",
       "       [0., 0., 0., 0., 0., 0.],\n",
       "       [0., 0., 0., 0., 0., 0.]])"
      ]
     },
     "execution_count": 5,
     "metadata": {},
     "output_type": "execute_result"
    }
   ],
   "source": [
    "K1"
   ]
  },
  {
   "cell_type": "code",
   "execution_count": 6,
   "metadata": {},
   "outputs": [
    {
     "data": {
      "text/plain": [
       "array([[1., 0., 0., 0., 0., 0.],\n",
       "       [0., 1., 0., 0., 0., 0.],\n",
       "       [0., 0., 1., 0., 0., 0.],\n",
       "       [0., 0., 0., 0., 0., 0.],\n",
       "       [0., 0., 0., 0., 0., 0.],\n",
       "       [0., 0., 0., 0., 0., 0.]])"
      ]
     },
     "execution_count": 6,
     "metadata": {},
     "output_type": "execute_result"
    }
   ],
   "source": [
    "Ki"
   ]
  },
  {
   "cell_type": "code",
   "execution_count": 8,
   "metadata": {},
   "outputs": [],
   "source": [
    "n = 3\n",
    "Z, W = getMT(n)\n",
    "eye = np.eye(n)\n",
    "ones = np.ones((n,n))\n",
    "zeros = np.zeros((n,n))\n",
    "Ko, K1, Ki, Kp = getConstraintMatrices(Z, W)\n",
    "Ko_ref = np.block([[eye, -W], [-W, W@W]])\n",
    "assert(np.allclose(Ko, Ko_ref))"
   ]
  },
  {
   "cell_type": "code",
   "execution_count": 10,
   "metadata": {},
   "outputs": [],
   "source": [
    "K1_ref = np.block([[ones, zeros], [zeros, zeros]])\n",
    "assert(np.allclose(K1, K1_ref))\n",
    "Ki_ref = np.block([[eye, zeros], [zeros, zeros]])\n",
    "assert(np.allclose(Ki, Ki_ref))"
   ]
  },
  {
   "cell_type": "code",
   "execution_count": 13,
   "metadata": {},
   "outputs": [
    {
     "name": "stdout",
     "output_type": "stream",
     "text": [
      "[[-1. -0. -0.  1.  0.  0.]\n",
      " [-0. -0. -0.  0.  0.  0.]\n",
      " [-0. -0. -0.  0.  0.  0.]\n",
      " [ 1.  0.  0.  3.  0.  0.]\n",
      " [ 0.  0.  0.  0.  0.  0.]\n",
      " [ 0.  0.  0.  0.  0.  0.]]\n",
      "[[ 0.   0.   0.   0.5  0.   0. ]\n",
      " [ 0.   0.   0.   0.   0.   0. ]\n",
      " [ 0.   0.   0.   0.   0.   0. ]\n",
      " [ 0.5  0.   0.  -2.  -0.  -0. ]\n",
      " [ 0.   0.   0.  -0.  -0.  -0. ]\n",
      " [ 0.   0.   0.  -0.  -0.  -0. ]]\n",
      "[[-0. -0. -0. -0.  0.  0.]\n",
      " [-0. -1. -0. -1.  1.  0.]\n",
      " [-0. -0. -0. -0.  0.  0.]\n",
      " [-0. -1. -0. -1.  1.  0.]\n",
      " [ 0.  1.  0.  1.  3.  0.]\n",
      " [ 0.  0.  0.  0.  0.  0.]]\n",
      "[[ 0.   0.   0.   0.   0.   0. ]\n",
      " [ 0.   0.   0.   0.   0.5  0. ]\n",
      " [ 0.   0.   0.   0.   0.   0. ]\n",
      " [ 0.   0.   0.   0.   0.5  0. ]\n",
      " [ 0.   0.5  0.   0.5 -2.  -0. ]\n",
      " [ 0.   0.   0.   0.  -0.  -0. ]]\n",
      "[[-0. -0. -0. -0. -0.  0.]\n",
      " [-0. -0. -0. -0. -0.  0.]\n",
      " [-0. -0. -1. -1. -1.  1.]\n",
      " [-0. -0. -1. -1. -1.  1.]\n",
      " [-0. -0. -1. -1. -1.  1.]\n",
      " [ 0.  0.  1.  1.  1.  3.]]\n",
      "[[ 0.   0.   0.   0.   0.   0. ]\n",
      " [ 0.   0.   0.   0.   0.   0. ]\n",
      " [ 0.   0.   0.   0.   0.   0.5]\n",
      " [ 0.   0.   0.   0.   0.   0.5]\n",
      " [ 0.   0.   0.   0.   0.   0.5]\n",
      " [ 0.   0.   0.5  0.5  0.5 -2. ]]\n"
     ]
    }
   ],
   "source": [
    "for k in Kp:\n",
    "    print(str(k))"
   ]
  },
  {
   "cell_type": "code",
   "execution_count": 14,
   "metadata": {},
   "outputs": [
    {
     "data": {
      "text/plain": [
       "[array([[-1., -0., -0.,  1.,  0.,  0.],\n",
       "        [-0., -0., -0.,  0.,  0.,  0.],\n",
       "        [-0., -0., -0.,  0.,  0.,  0.],\n",
       "        [ 1.,  0.,  0.,  3.,  0.,  0.],\n",
       "        [ 0.,  0.,  0.,  0.,  0.,  0.],\n",
       "        [ 0.,  0.,  0.,  0.,  0.,  0.]]),\n",
       " array([[ 0. ,  0. ,  0. ,  0.5,  0. ,  0. ],\n",
       "        [ 0. ,  0. ,  0. ,  0. ,  0. ,  0. ],\n",
       "        [ 0. ,  0. ,  0. ,  0. ,  0. ,  0. ],\n",
       "        [ 0.5,  0. ,  0. , -2. , -0. , -0. ],\n",
       "        [ 0. ,  0. ,  0. , -0. , -0. , -0. ],\n",
       "        [ 0. ,  0. ,  0. , -0. , -0. , -0. ]]),\n",
       " array([[-0., -0., -0., -0.,  0.,  0.],\n",
       "        [-0., -1., -0., -1.,  1.,  0.],\n",
       "        [-0., -0., -0., -0.,  0.,  0.],\n",
       "        [-0., -1., -0., -1.,  1.,  0.],\n",
       "        [ 0.,  1.,  0.,  1.,  3.,  0.],\n",
       "        [ 0.,  0.,  0.,  0.,  0.,  0.]]),\n",
       " array([[ 0. ,  0. ,  0. ,  0. ,  0. ,  0. ],\n",
       "        [ 0. ,  0. ,  0. ,  0. ,  0.5,  0. ],\n",
       "        [ 0. ,  0. ,  0. ,  0. ,  0. ,  0. ],\n",
       "        [ 0. ,  0. ,  0. ,  0. ,  0.5,  0. ],\n",
       "        [ 0. ,  0.5,  0. ,  0.5, -2. , -0. ],\n",
       "        [ 0. ,  0. ,  0. ,  0. , -0. , -0. ]]),\n",
       " array([[-0., -0., -0., -0., -0.,  0.],\n",
       "        [-0., -0., -0., -0., -0.,  0.],\n",
       "        [-0., -0., -1., -1., -1.,  1.],\n",
       "        [-0., -0., -1., -1., -1.,  1.],\n",
       "        [-0., -0., -1., -1., -1.,  1.],\n",
       "        [ 0.,  0.,  1.,  1.,  1.,  3.]]),\n",
       " array([[ 0. ,  0. ,  0. ,  0. ,  0. ,  0. ],\n",
       "        [ 0. ,  0. ,  0. ,  0. ,  0. ,  0. ],\n",
       "        [ 0. ,  0. ,  0. ,  0. ,  0. ,  0.5],\n",
       "        [ 0. ,  0. ,  0. ,  0. ,  0. ,  0.5],\n",
       "        [ 0. ,  0. ,  0. ,  0. ,  0. ,  0.5],\n",
       "        [ 0. ,  0. ,  0.5,  0.5,  0.5, -2. ]])]"
      ]
     },
     "execution_count": 14,
     "metadata": {},
     "output_type": "execute_result"
    }
   ],
   "source": [
    "Kp"
   ]
  },
  {
   "cell_type": "code",
   "execution_count": 15,
   "metadata": {},
   "outputs": [
    {
     "name": "stdout",
     "output_type": "stream",
     "text": [
      "No operators provided, using default LipschitzStronglyMonotoneOperator\n"
     ]
    }
   ],
   "source": [
    "n = 3\n",
    "Z, W = getMT(n)\n",
    "M = getIncidence(W)\n",
    "Ko, Ki, Kmus, Kls = getGramsOld(Z, M)\n",
    "Kon, Kin, Kpn = getReducedConstraintMatrices(Z, M)"
   ]
  },
  {
   "cell_type": "code",
   "execution_count": 16,
   "metadata": {},
   "outputs": [
    {
     "data": {
      "text/plain": [
       "array([[ 1.,  0., -1.,  1.,  0.],\n",
       "       [ 0.,  1.,  0., -1.,  1.],\n",
       "       [-1.,  0.,  1., -1.,  0.],\n",
       "       [ 1., -1., -1.,  2., -1.],\n",
       "       [ 0.,  1.,  0., -1.,  1.]])"
      ]
     },
     "execution_count": 16,
     "metadata": {},
     "output_type": "execute_result"
    }
   ],
   "source": [
    "Kon"
   ]
  },
  {
   "cell_type": "code",
   "execution_count": 19,
   "metadata": {},
   "outputs": [
    {
     "name": "stdout",
     "output_type": "stream",
     "text": [
      "No operators provided, using default LipschitzStronglyMonotoneOperator\n"
     ]
    }
   ],
   "source": [
    "n = 3\n",
    "Z, W = getMT(n)\n",
    "M = getIncidence(W)\n",
    "d = M.shape[0]\n",
    "Ko, Ki, Kmus, Kls = getGramsOld(Z, M)\n",
    "Kon, Kin, Kpn = getReducedConstraintMatrices(Z, M)\n",
    "eye = np.eye(d)\n",
    "Ko_ref = np.block([[eye, M], [M.T, M.T@M]])\n",
    "assert(np.allclose(Ko_ref, Kon))"
   ]
  },
  {
   "cell_type": "code",
   "execution_count": 20,
   "metadata": {},
   "outputs": [
    {
     "data": {
      "text/plain": [
       "array([[1., 0., 0., 0., 0.],\n",
       "       [0., 1., 0., 0., 0.],\n",
       "       [0., 0., 0., 0., 0.],\n",
       "       [0., 0., 0., 0., 0.],\n",
       "       [0., 0., 0., 0., 0.]])"
      ]
     },
     "execution_count": 20,
     "metadata": {},
     "output_type": "execute_result"
    }
   ],
   "source": [
    "Ki"
   ]
  },
  {
   "cell_type": "code",
   "execution_count": 22,
   "metadata": {},
   "outputs": [],
   "source": [
    "\n",
    "    Ki_ref = np.zeros((d+n, d+n))\n",
    "Ki_ref[:d, :d] = eye\n",
    "assert(np.allclose(Ki_ref, Kin))"
   ]
  },
  {
   "cell_type": "code",
   "execution_count": 23,
   "metadata": {},
   "outputs": [
    {
     "data": {
      "text/plain": [
       "[array([[-1.,  0.,  1.,  0.,  0.],\n",
       "        [ 0., -0., -0., -0., -0.],\n",
       "        [ 1., -0.,  3.,  0.,  0.],\n",
       "        [ 0., -0.,  0.,  0.,  0.],\n",
       "        [ 0., -0.,  0.,  0.,  0.]]),\n",
       " array([[ 0. ,  0. ,  0.5,  0. ,  0. ],\n",
       "        [ 0. ,  0. , -0. , -0. , -0. ],\n",
       "        [ 0.5, -0. , -2. , -0. , -0. ],\n",
       "        [ 0. , -0. , -0. , -0. , -0. ],\n",
       "        [ 0. , -0. , -0. , -0. , -0. ]]),\n",
       " array([[-1.,  1.,  1., -1., -0.],\n",
       "        [ 1., -1., -1.,  1.,  0.],\n",
       "        [ 1., -1., -1.,  1.,  0.],\n",
       "        [-1.,  1.,  1.,  3.,  0.],\n",
       "        [-0.,  0.,  0.,  0.,  0.]]),\n",
       " array([[ 0. ,  0. , -0. , -0.5, -0. ],\n",
       "        [ 0. ,  0. ,  0. ,  0.5,  0. ],\n",
       "        [-0. ,  0. ,  0. ,  0.5,  0. ],\n",
       "        [-0.5,  0.5,  0.5, -2. , -0. ],\n",
       "        [-0. ,  0. ,  0. , -0. , -0. ]]),\n",
       " array([[-0., -0.,  0.,  0., -0.],\n",
       "        [-0., -1.,  1.,  1., -1.],\n",
       "        [ 0.,  1., -1., -1.,  1.],\n",
       "        [ 0.,  1., -1., -1.,  1.],\n",
       "        [-0., -1.,  1.,  1.,  3.]]),\n",
       " array([[ 0. ,  0. , -0. , -0. , -0. ],\n",
       "        [ 0. ,  0. , -0. , -0. , -0.5],\n",
       "        [-0. , -0. ,  0. ,  0. ,  0.5],\n",
       "        [-0. , -0. ,  0. ,  0. ,  0.5],\n",
       "        [-0. , -0.5,  0.5,  0.5, -2. ]])]"
      ]
     },
     "execution_count": 23,
     "metadata": {},
     "output_type": "execute_result"
    }
   ],
   "source": [
    "Kpn"
   ]
  },
  {
   "cell_type": "code",
   "execution_count": 24,
   "metadata": {},
   "outputs": [],
   "source": [
    "Kpn_ref = [np.array([[-1.,  0.,  1.,  0.,  0.],\n",
    "                [ 0., -0., -0., -0., -0.],\n",
    "                [ 1., -0.,  3.,  0.,  0.],\n",
    "                [ 0., -0.,  0.,  0.,  0.],\n",
    "                [ 0., -0.,  0.,  0.,  0.]]),\n",
    "        np.array([[ 0. ,  0. ,  0.5,  0. ,  0. ],\n",
    "                [ 0. ,  0. , -0. , -0. , -0. ],\n",
    "                [ 0.5, -0. , -2. , -0. , -0. ],\n",
    "                [ 0. , -0. , -0. , -0. , -0. ],\n",
    "                [ 0. , -0. , -0. , -0. , -0. ]]),\n",
    "        np.array([[-1.,  1.,  1., -1., -0.],\n",
    "                [ 1., -1., -1.,  1.,  0.],\n",
    "                [ 1., -1., -1.,  1.,  0.],\n",
    "                [-1.,  1.,  1.,  3.,  0.],\n",
    "                [-0.,  0.,  0.,  0.,  0.]]),\n",
    "        np.array([[ 0. ,  0. , -0. , -0.5, -0. ],\n",
    "                [ 0. ,  0. ,  0. ,  0.5,  0. ],\n",
    "                [-0. ,  0. ,  0. ,  0.5,  0. ],\n",
    "                [-0.5,  0.5,  0.5, -2. , -0. ],\n",
    "                [-0. ,  0. ,  0. , -0. , -0. ]]),\n",
    "        np.array([[-0., -0.,  0.,  0., -0.],\n",
    "                [-0., -1.,  1.,  1., -1.],\n",
    "                [ 0.,  1., -1., -1.,  1.],\n",
    "                [ 0.,  1., -1., -1.,  1.],\n",
    "                [-0., -1.,  1.,  1.,  3.]]),\n",
    "        np.array([[ 0. ,  0. , -0. , -0. , -0. ],\n",
    "                [ 0. ,  0. , -0. , -0. , -0.5],\n",
    "                [-0. , -0. ,  0. ,  0. ,  0.5],\n",
    "                [-0. , -0. ,  0. ,  0. ,  0.5],\n",
    "                [-0. , -0.5,  0.5,  0.5, -2. ]])]\n",
    "for i in range(2*n):\n",
    "    assert(np.allclose(Kpn[i], Kpn_ref[i]))"
   ]
  },
  {
   "cell_type": "code",
   "execution_count": null,
   "metadata": {},
   "outputs": [],
   "source": []
  }
 ],
 "metadata": {
  "kernelspec": {
   "display_name": "oarstest",
   "language": "python",
   "name": "python3"
  },
  "language_info": {
   "codemirror_mode": {
    "name": "ipython",
    "version": 3
   },
   "file_extension": ".py",
   "mimetype": "text/x-python",
   "name": "python",
   "nbconvert_exporter": "python",
   "pygments_lexer": "ipython3",
   "version": "3.12.2"
  }
 },
 "nbformat": 4,
 "nbformat_minor": 2
}
